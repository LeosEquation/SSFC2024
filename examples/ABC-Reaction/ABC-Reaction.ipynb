{
 "cells": [
  {
   "outputs": [],
   "cell_type": "code",
   "source": [
    "include(\"../../src/NumDiffEq.jl\");"
   ],
   "metadata": {},
   "execution_count": null
  },
  {
   "outputs": [],
   "cell_type": "code",
   "source": [
    "using Plots;"
   ],
   "metadata": {},
   "execution_count": null
  },
  {
   "outputs": [],
   "cell_type": "code",
   "source": [
    "function f!(du,u,p,t)\n",
    "    du[1] = -u[1] + p[1]*(1-u[1])*exp(u[3])\n",
    "    du[2] = -u[2] + p[1]*(1-u[1])*exp(u[3]) - p[1]*p[4]*u[2]*exp(u[3])\n",
    "    du[3] = -u[3] - p[3]*u[3] + p[1]*p[5]*(1-u[1])*exp(u[3]) + p[1]*p[5]*p[2]*p[4]*u[2]*exp(u[3])\n",
    "end;"
   ],
   "metadata": {},
   "execution_count": null
  },
  {
   "outputs": [],
   "cell_type": "code",
   "source": [
    "begin\n",
    "    α = 1\n",
    "    σ = 0.04\n",
    "    B = 8\n",
    "    β = 1.2:0.01:1.42\n",
    "    D = 0.0\n",
    "    x_ini = [[0.0,0.0,0.0] for i in β]\n",
    "    p_ini = [[D,α,i,σ,B] for i in β]\n",
    "    Δs= 0.001\n",
    "    p_fin = 0.5\n",
    "    indice = 1\n",
    "    t = 0.0\n",
    "end;"
   ],
   "metadata": {},
   "execution_count": null
  },
  {
   "outputs": [],
   "cell_type": "code",
   "source": [
    "Equilibrium(f!, x_ini[4], p_ini[4],t, Δs, p_fin,indice)\n",
    "\n",
    "tiempo = @elapsed begin\n",
    "    ramas_de_equilibrio = Equilibrium.(f!, x_ini, p_ini,t, Δs, p_fin,indice);\n",
    "    LBP = Limit_Points.(f!,ramas_de_equilibrio,t,p_ini,indice,p_fin);\n",
    "    HBP = Hopf_Points.(f!,ramas_de_equilibrio,t,p_ini,indice,p_fin);\n",
    "    estabilidad = Stability_intervals.(f!,p_ini,t,indice,ramas_de_equilibrio);\n",
    "end;"
   ],
   "metadata": {},
   "execution_count": null
  },
  {
   "outputs": [],
   "cell_type": "code",
   "source": [
    "begin\n",
    "    LBP = [[(LBP[i][j][1],norm(LBP[i][j][2])) for j in 1:length(LBP[i])] for i in 1:length(LBP)]\n",
    "    HBP = [[(HBP[i][j][1],norm(HBP[i][j][2])) for j in 1:length(HBP[i])] for i in 1:length(HBP)]\n",
    "    estable = [[(estabilidad[i][1][j][1],norm(estabilidad[i][1][j][2])) for j in 1:length(estabilidad[i][1])] for i in 1:length(estabilidad)]\n",
    "    inestable = [[(estabilidad[i][2][j][1],norm(estabilidad[i][2][j][2])) for j in 1:length(estabilidad[i][2])] for i in 1:length(estabilidad)]\n",
    "end;"
   ],
   "metadata": {},
   "execution_count": null
  },
  {
   "outputs": [],
   "cell_type": "code",
   "source": [
    "begin\n",
    "    plot(title = \"Reacción A -> B -> C \\n TIempo de ejecución = $(tiempo) s\", ylabel = \"||u(D)||\", xlabel = \"D\")\n",
    "    plot!(estable[1], label = \"Estable\", linestyle = :solid, color = \"blue\")\n",
    "    plot!(inestable[1], label = \"Inestable\", linestyle = :dash, color = \"blue\")\n",
    "    scatter!(HBP[1], label = \"Bifurcación Hopf\", color = \"red\")\n",
    "    scatter!(LBP[1], label = \"Bifurcación LP\", color = \"white\")\n",
    "    for i in 1:length(ramas_de_equilibrio)\n",
    "        plot!(estable[i], label = \"\", linestyle = :solid, color = \"blue\")\n",
    "        plot!(inestable[i], label = \"\", linestyle = :dash, color = \"blue\")\n",
    "        scatter!(HBP[i], label = \"\", color = \"red\")\n",
    "        scatter!(LBP[i], label = \"\", color = \"white\")\n",
    "    end\n",
    "    ylims!(1,7)\n",
    "    xlims!(0.12,0.22)\n",
    "    savefig(\"ABC Reaction.png\")\n",
    "end"
   ],
   "metadata": {},
   "execution_count": null
  },
  {
   "outputs": [],
   "cell_type": "code",
   "source": [
    "begin\n",
    "    #=\n",
    "    for i in 1:length(x_ini)\n",
    "        normas = []\n",
    "        for j in 1:length(ramas_de_equilibrio[i][1])\n",
    "            dx = zeros(length(x_ini))\n",
    "            f!(dx,ramas_de_equilibrio[i][2][j],[k == indice ? ramas_de_equilibrio[i][1][j] : p_ini[i][k] for k in 1:length(p_ini[i])],t)\n",
    "            push!(normas,norm(dx))\n",
    "        end\n",
    "        precision = plot(title = \"Precisión de la rama\", ylabel = \"||F(u(λ),λ)||\", xlabel = \"λ\")\n",
    "        plot!(ramas_de_equilibrio[i][1],normas ,label = \"λ_ini = $(p_ini[i]), x_ini = $(x_ini[i])\")\n",
    "        savefig(\"PrecisiónRama$(i).png\")\n",
    "    end\n",
    "    =#\n",
    "end"
   ],
   "metadata": {},
   "execution_count": null
  },
  {
   "cell_type": "markdown",
   "source": [
    "---\n",
    "\n",
    "*This notebook was generated using [Literate.jl](https://github.com/fredrikekre/Literate.jl).*"
   ],
   "metadata": {}
  }
 ],
 "nbformat_minor": 3,
 "metadata": {
  "language_info": {
   "file_extension": ".jl",
   "mimetype": "application/julia",
   "name": "julia",
   "version": "1.9.2"
  },
  "kernelspec": {
   "name": "julia-1.9",
   "display_name": "Julia 1.9.2",
   "language": "julia"
  }
 },
 "nbformat": 4
}
