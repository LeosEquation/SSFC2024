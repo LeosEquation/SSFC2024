{
 "cells": [
  {
   "outputs": [],
   "cell_type": "code",
   "source": [
    "include(\"../../src/NumDiffEq.jl\");"
   ],
   "metadata": {},
   "execution_count": null
  },
  {
   "outputs": [],
   "cell_type": "code",
   "source": [
    "using Plots;"
   ],
   "metadata": {},
   "execution_count": null
  },
  {
   "outputs": [],
   "cell_type": "code",
   "source": [
    "function f!(du,u,λ,t)\n",
    "    du[1] = 3*u[1]*(1 - u[1]) - u[1]*u[2] - λ*(1-exp(-5*u[1]))\n",
    "    du[2] = -u[2] + 3*u[1]*u[2]\n",
    "end;"
   ],
   "metadata": {},
   "execution_count": null
  },
  {
   "outputs": [],
   "cell_type": "code",
   "source": [
    "begin\n",
    "    x_ini = [[0.0,0.0],[1.0,0.0],[1/3,2.0]]\n",
    "    p_ini = 0.0\n",
    "    Δs= 0.001\n",
    "    p_fin = 0.9\n",
    "    t = 0.0\n",
    "end;"
   ],
   "metadata": {},
   "execution_count": null
  },
  {
   "outputs": [],
   "cell_type": "code",
   "source": [
    "tiempo = @elapsed begin\n",
    "    ramas_de_equilibrio = Equilibrium.(f!, x_ini, p_ini, t, Δs, p_fin)\n",
    "    LBP = Limit_Points.(f!,ramas_de_equilibrio,t,p_fin)\n",
    "    HBP = Hopf_Points.(f!,ramas_de_equilibrio,t,p_fin)\n",
    "    estabilidad = Stability_intervals.(f!,t,ramas_de_equilibrio)\n",
    "end;"
   ],
   "metadata": {},
   "execution_count": null
  },
  {
   "outputs": [],
   "cell_type": "code",
   "source": [
    "begin\n",
    "    LBP_2D = [[(LBP[i][j][1],LBP[i][j][2][1]) for j in 1:length(LBP[i])] for i in 1:length(LBP)]\n",
    "    HBP_2D = [[(HBP[i][j][1],HBP[i][j][2][1]) for j in 1:length(HBP[i])] for i in 1:length(HBP)]\n",
    "    estable = [[(estabilidad[i][1][j][1],estabilidad[i][1][j][2][1]) for j in 1:length(estabilidad[i][1])] for i in 1:length(estabilidad)]\n",
    "    inestable = [[(estabilidad[i][2][j][1],estabilidad[i][2][j][2][1]) for j in 1:length(estabilidad[i][2])] for i in 1:length(estabilidad)]\n",
    "end;"
   ],
   "metadata": {},
   "execution_count": null
  },
  {
   "outputs": [],
   "cell_type": "code",
   "source": [
    "begin\n",
    "    plot(title = \"Predator-Prey Model \\n Tiempo de ejecución = $(tiempo) s\", ylabel = \"Fish\", xlabel = \"Quota\")\n",
    "    plot!(estable[1], label = \"Estable\", linestyle = :solid, color = \"blue\")\n",
    "    plot!(inestable[1], label = \"Inestable\", linestyle = :dash, color = \"blue\")\n",
    "    scatter!(LBP_2D[1], label = \"Bifurcación LP\", color = \"white\")\n",
    "    scatter!(HBP_2D[1], label = \"Bifurcación Hopf\", color = \"red\")\n",
    "    ylims!(-0.1,1.0)\n",
    "    xlims!(0.0,0.9)\n",
    "\n",
    "    for i in 1:length(ramas_de_equilibrio)\n",
    "    plot!(estable[i], label = \"\", linestyle = :solid, color = \"blue\")\n",
    "    plot!(inestable[i], label = \"\", linestyle = :dash, color = \"blue\")\n",
    "    scatter!(LBP_2D[i], label = \"\", color = \"white\")\n",
    "    scatter!(HBP_2D[i], label = \"\", color = \"red\")\n",
    "    end\n",
    "\n",
    "    savefig(\"Predator-Prey fish.png\")\n",
    "end;"
   ],
   "metadata": {},
   "execution_count": null
  },
  {
   "outputs": [],
   "cell_type": "code",
   "source": [
    "begin\n",
    "    LBP_3D = [[(LBP[i][j][2][2],LBP[i][j][1],LBP[i][j][2][1]) for j in 1:length(LBP[i])] for i in 1:length(LBP)]\n",
    "    HBP_3D = [[(HBP[i][j][2][2],HBP[i][j][1],HBP[i][j][2][1]) for j in 1:length(HBP[i])] for i in 1:length(HBP)]\n",
    "\n",
    "    plot(title = \"Predator-Prey Model \\n Tiempo de ejecución = $(tiempo) s\", ylabel = \"Quota\", xlabel = \"Sharks\", zlabel = \"Fish\", camera = (60, 25))\n",
    "\n",
    "    for i in 1:3\n",
    "        x = zeros(length(ramas_de_equilibrio[i][1]))\n",
    "\n",
    "        y_estable = zeros(length(ramas_de_equilibrio[i][1]))\n",
    "        z_estable = zeros(length(ramas_de_equilibrio[i][1]))\n",
    "\n",
    "        y_inestable = zeros(length(ramas_de_equilibrio[i][1]))\n",
    "        z_inestable = zeros(length(ramas_de_equilibrio[i][1]))\n",
    "\n",
    "        x = ramas_de_equilibrio[i][1]\n",
    "\n",
    "        for j in 1:length(estabilidad[i][1])\n",
    "            y_estable[j] = estabilidad[i][1][j][2][2]\n",
    "            z_estable[j] = estabilidad[i][1][j][2][1]\n",
    "        end\n",
    "\n",
    "        for j in 1:length(estabilidad[i][2])\n",
    "            y_inestable[j] = estabilidad[i][2][j][2][2]\n",
    "            z_inestable[j] = estabilidad[i][2][j][2][1]\n",
    "        end\n",
    "\n",
    "        if i == 1\n",
    "            plot!(y_estable,x,z_estable,xflip = true, color = \"blue\",linestyle = :solid, label = \"Estable\")\n",
    "            plot!(y_inestable,x,z_inestable,xflip = true, color = \"blue\",linestyle = :dash, label = \"Inestable\")\n",
    "            scatter!(LBP_3D[i], label = \"Bifurcación LP\", color = \"white\")\n",
    "            scatter!(HBP_3D[i], label = \"Bifurcación Hopf\", color = \"red\")\n",
    "        else\n",
    "            plot!(y_estable,x,z_estable,xflip = true, color = \"blue\",linestyle = :solid, label = \"\")\n",
    "            plot!(y_inestable,x,z_inestable,xflip = true, color = \"blue\",linestyle = :dash, label = \"\")\n",
    "            scatter!(LBP_3D[i], label = \"\", color = \"white\")\n",
    "            scatter!(HBP_3D[i], label = \"\", color = \"red\")\n",
    "        end\n",
    "    end\n",
    "\n",
    "\n",
    "    ylims!(-0.1,1.0)\n",
    "    xlims!(-0.5,2.0)\n",
    "    zlims!(-0.25,1.0)\n",
    "    savefig(\"Predator-Prey Model.png\")\n",
    "end"
   ],
   "metadata": {},
   "execution_count": null
  },
  {
   "outputs": [],
   "cell_type": "code",
   "source": [
    "begin\n",
    "    #=\n",
    "    for i in 1:length(x_ini)\n",
    "        normas = []\n",
    "        for j in 1:length(ramas_de_equilibrio[i][1])\n",
    "            dx = zeros(length(x_ini))\n",
    "            f!(dx,ramas_de_equilibrio[i][2][j],ramas_de_equilibrio[i][1][j],t)\n",
    "            push!(normas,norm(dx))\n",
    "        end\n",
    "        if i == 2\n",
    "            precision = plot(title = \"Precisión de la rama\", ylabel = \"||F(u(λ),λ)||\", xlabel = \"λ\")\n",
    "            plot!(ramas_de_equilibrio[i][1],normas ,label = \"λ_ini = $(p_ini), x_ini = $(x_ini[i])\")\n",
    "        else\n",
    "            precision = plot(title = \"Precisión de la rama\", ylabel = \"||F(u(λ),λ)|| / 1×10⁻¹⁶\", xlabel = \"λ\")\n",
    "            plot!(ramas_de_equilibrio[i][1],normas .* 1.e16 ,label = \"λ_ini = $(p_ini), x_ini = $(x_ini[i])\")\n",
    "        end\n",
    "        savefig(\"PrecisiónRama$(i).png\")\n",
    "    end\n",
    "    =#\n",
    "end"
   ],
   "metadata": {},
   "execution_count": null
  },
  {
   "cell_type": "markdown",
   "source": [
    "---\n",
    "\n",
    "*This notebook was generated using [Literate.jl](https://github.com/fredrikekre/Literate.jl).*"
   ],
   "metadata": {}
  }
 ],
 "nbformat_minor": 3,
 "metadata": {
  "language_info": {
   "file_extension": ".jl",
   "mimetype": "application/julia",
   "name": "julia",
   "version": "1.9.2"
  },
  "kernelspec": {
   "name": "julia-1.9",
   "display_name": "Julia 1.9.2",
   "language": "julia"
  }
 },
 "nbformat": 4
}
