{
 "cells": [
  {
   "outputs": [],
   "cell_type": "code",
   "source": [
    "include(\"../../src/NumDiffEq.jl\");"
   ],
   "metadata": {},
   "execution_count": null
  },
  {
   "outputs": [],
   "cell_type": "code",
   "source": [
    "using Plots;"
   ],
   "metadata": {},
   "execution_count": null
  },
  {
   "outputs": [],
   "cell_type": "code",
   "source": [
    "g(u,λ,t) = (u^2-1)*(u^2-4) + λ*u^2*exp(u/10);"
   ],
   "metadata": {},
   "execution_count": null
  },
  {
   "outputs": [],
   "cell_type": "code",
   "source": [
    "begin\n",
    "    x_ini = [2.0,-1.0]\n",
    "    p_ini = 0.0\n",
    "    Δs= 0.001\n",
    "    p_fin = 2.0\n",
    "    orden = 1\n",
    "    t = 0.0\n",
    "end;"
   ],
   "metadata": {},
   "execution_count": null
  },
  {
   "outputs": [],
   "cell_type": "code",
   "source": [
    "tiempo = @elapsed begin\n",
    "ramas_de_equilibrio = Equilibrium.(g, x_ini, p_ini, t, Δs, p_fin);\n",
    "LBP = Limit_Points.(g,ramas_de_equilibrio,t,p_fin)\n",
    "estabilidad = Stability_intervals.(g,t,ramas_de_equilibrio)\n",
    "end;"
   ],
   "metadata": {},
   "execution_count": null
  },
  {
   "outputs": [],
   "cell_type": "code",
   "source": [
    "LBP = [[(LBP[i][j][1],LBP[i][j][2]) for j in 1:length(LBP[i])] for i in 1:length(LBP)];"
   ],
   "metadata": {},
   "execution_count": null
  },
  {
   "outputs": [],
   "cell_type": "code",
   "source": [
    "begin\n",
    "    plot(title = \"Puntos de equilibrio \\n Tiempo de ejecución = $(tiempo) s\", ylabel = \"u(λ)\", xlabel = \"λ\",legendfont=font(5))\n",
    "    plot!(estabilidad[1][1], label = \"Puntos estables\", color = \"blue\", linestyle = :solid)\n",
    "    plot!(estabilidad[1][2], label = \"Puntos inestables\", color = \"blue\", linestyle = :dash)\n",
    "    scatter!(LBP[1], label = \"Bifurcaciones LP\", color = \"white\")\n",
    "    for i in 2:length(estabilidad)\n",
    "        plot!(estabilidad[i][1], label = \"\", color = \"blue\", linestyle = :solid)\n",
    "        plot!(estabilidad[i][2], label = \"\", color = \"blue\", linestyle = :dash)\n",
    "        scatter!(LBP[i], label = \"\", color = \"white\")\n",
    "    end\n",
    "    savefig(\"Ejemplo 1D.png\")\n",
    "end;"
   ],
   "metadata": {},
   "execution_count": null
  },
  {
   "outputs": [],
   "cell_type": "code",
   "source": [
    "begin\n",
    "    precisiones = []\n",
    "\n",
    "    #=for i in 1:length(x_ini)\n",
    "        precisioni = plot(title = \"λ_ini = $(p_ini), x_ini = $(x_ini[i])\", ylabel = \"|g(u(λ),λ)| / 1×10⁻¹⁶\", titlefontsize = 7, xlabel = \"λ\", guidefontsize = 8)\n",
    "        plot!(ramas_de_equilibrio[i][1],abs.(g.(ramas_de_equilibrio[i][2],ramas_de_equilibrio[i][1],t)) ,label = \"\")\n",
    "        push!(precisiones,precisioni)\n",
    "    end=#\n",
    "\n",
    "    #plot(precisiones..., layout = (1,2),plot_title=\"Precisión de las ramas de soluciones\",plot_titlefontsize = 10)\n",
    "\n",
    "    #savefig(\"Precision.png\")\n",
    "end;"
   ],
   "metadata": {},
   "execution_count": null
  },
  {
   "cell_type": "markdown",
   "source": [
    "---\n",
    "\n",
    "*This notebook was generated using [Literate.jl](https://github.com/fredrikekre/Literate.jl).*"
   ],
   "metadata": {}
  }
 ],
 "nbformat_minor": 3,
 "metadata": {
  "language_info": {
   "file_extension": ".jl",
   "mimetype": "application/julia",
   "name": "julia",
   "version": "1.9.2"
  },
  "kernelspec": {
   "name": "julia-1.9",
   "display_name": "Julia 1.9.2",
   "language": "julia"
  }
 },
 "nbformat": 4
}
