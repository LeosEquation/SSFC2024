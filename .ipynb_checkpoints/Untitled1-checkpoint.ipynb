{
 "cells": [
  {
   "cell_type": "code",
   "execution_count": 2,
   "id": "b98f7937-7a75-4798-a39b-3b6df6ca96b3",
   "metadata": {},
   "outputs": [],
   "source": [
    "using Plots, TaylorSeries, LinearAlgebra"
   ]
  },
  {
   "cell_type": "markdown",
   "id": "502a73d8-1249-4214-bde3-3ba579b7e71e",
   "metadata": {},
   "source": [
    "$$f(x,p) = f(x_{0},p_{0}) + (f_{x}(x_{0},p_{0})\\ \\ f_{p}(x_{0},p_{0})) \\begin{pmatrix} x - x_{0} \\\\ p - p_{0}\\end{pmatrix} = f(x_{0},p_{0}) + f_{x}(x_{0},p_{0})(x-x_{0}) + f_{p}(x_{0},p_{0}) (p-p_{0})$$\n",
    "\n",
    "$$ (p-p_{0}) = \\dfrac{f(x,p) - f(x_{0},p_{0}) - f_{x}(x_{0},p_{0})(x-x_{0})}{f_{p}(x_{0},p_{0})} $$\n",
    "\n",
    "$$p = \\dfrac{f(x,p) - f(x_{0},p_{0}) - f_{x}(x_{0},p_{0})(x-x_{0})}{f_{p}(x_{0},p_{0})} + p_{0}$$"
   ]
  },
  {
   "cell_type": "code",
   "execution_count": 29,
   "id": "e321454a-684a-420b-a5e3-83b5bebf4db6",
   "metadata": {},
   "outputs": [
    {
     "data": {
      "text/plain": [
       "Newton (generic function with 2 methods)"
      ]
     },
     "execution_count": 29,
     "metadata": {},
     "output_type": "execute_result"
    }
   ],
   "source": [
    "function Newton(f::Function,x0::Taylor1,p0::Float64; ite1 = 30, tol1 = 1e-16)\n",
    "    x_new = x0\n",
    "    i = 1\n",
    "    while i <= ite1 && abs(f(x_new(0.0),p0)) > tol1\n",
    "        x_old = x_new\n",
    "        x_new = x_old - (f(x_old,p0)/derivative(f(x_old,p0)))(0.0)\n",
    "        i+=1\n",
    "    end\n",
    "    return x_new(0.0)\n",
    "end"
   ]
  },
  {
   "cell_type": "code",
   "execution_count": 30,
   "id": "6c6db351-ecd0-4c1a-8912-5460c7a8ef68",
   "metadata": {},
   "outputs": [
    {
     "data": {
      "text/plain": [
       "Newton (generic function with 2 methods)"
      ]
     },
     "execution_count": 30,
     "metadata": {},
     "output_type": "execute_result"
    }
   ],
   "source": [
    "function Newton(f::Function,x0::Union{Float64,Vector{Float64}},p0::Taylor1; ite1 = 30, tol1 = 1e-16)\n",
    "    p_new = p0\n",
    "    i = 1\n",
    "    while i <= ite1 && abs(f(x0,p_new(0.0))) > tol1\n",
    "        p_old = p_new\n",
    "        p_new = p_old - (f(x0,p_old)/derivative(f(x0,p_old)))(0.0)\n",
    "        i+=1\n",
    "    end\n",
    "    return p_new(0.0)\n",
    "end"
   ]
  },
  {
   "cell_type": "code",
   "execution_count": 169,
   "id": "0d17d8b1-6124-48a2-b488-14026bc95c6c",
   "metadata": {},
   "outputs": [
    {
     "data": {
      "text/plain": [
       "Estabilidad (generic function with 2 methods)"
      ]
     },
     "execution_count": 169,
     "metadata": {},
     "output_type": "execute_result"
    }
   ],
   "source": [
    "function Estabilidad(f::Function, x0::Float64, p0::Float64, Δp::Float64,Δx::Float64, p_min::Float64, p_max::Float64,orden::Int64; Nmax = 1000, ite = 20, tol = 1.e-16)\n",
    "    X = Float64[]\n",
    "    P = Float64[]\n",
    "\n",
    "    t = Taylor1(orden)\n",
    "\n",
    "    push!(P,p0)\n",
    "    push!(X,x0)\n",
    "    \n",
    "    x_old = x0\n",
    "    p_old = p0 + Δp\n",
    "\n",
    "    i = 0\n",
    "\n",
    "    while i <= Nmax && p_min <= p_old <= p_max\n",
    "        x_new = Newton(f,x_old + t, p_old; ite1 = ite, tol1 = tol)\n",
    "        if abs(f(x_new,p_old)) <= tol\n",
    "            p_new = p_old\n",
    "        else\n",
    "            p_new = Newton(f,x_new, p_old + t; ite1 = ite, tol1 = tol)\n",
    "        end\n",
    "\n",
    "        if abs(f(x_new,p_new)) <= tol && abs(x_new - x_old) <= Δx\n",
    "            push!(P,p_new)\n",
    "            push!(X,x_new)\n",
    "            p_old = (f(x_new,p_new) - f(x_old,p_old) - derivative(f(x_old+t,p_old))(0.0)(x_new-x_old))/(derivative(f(x_old,p_old+t))(0.0)) + p_new\n",
    "        end\n",
    "        println(\" i = $(i)\\t x = $(x_new) \\t p = $(p_new) \")\n",
    "        i += 1\n",
    "    end\n",
    "\n",
    "    return X, P\n",
    "\n",
    "end"
   ]
  },
  {
   "cell_type": "code",
   "execution_count": 170,
   "id": "50148971-cf18-4f94-bae6-3fc76b214aab",
   "metadata": {},
   "outputs": [
    {
     "data": {
      "text/plain": [
       "g (generic function with 1 method)"
      ]
     },
     "execution_count": 170,
     "metadata": {},
     "output_type": "execute_result"
    }
   ],
   "source": [
    "g(u,λ) = (u^2-1)*(u^2-4) + λ*u^2*exp(u/10)"
   ]
  },
  {
   "cell_type": "code",
   "execution_count": 171,
   "id": "c94f6491-9671-48c4-9ff9-56e143ded275",
   "metadata": {},
   "outputs": [
    {
     "data": {
      "text/plain": [
       " 1.0 t + 𝒪(t²¹)"
      ]
     },
     "execution_count": 171,
     "metadata": {},
     "output_type": "execute_result"
    }
   ],
   "source": [
    "t = Taylor1(20)"
   ]
  },
  {
   "cell_type": "code",
   "execution_count": 172,
   "id": "e3c3ec2b-b46f-48fc-bd06-a32f0510651a",
   "metadata": {},
   "outputs": [
    {
     "data": {
      "text/plain": [
       "2.0"
      ]
     },
     "execution_count": 172,
     "metadata": {},
     "output_type": "execute_result"
    }
   ],
   "source": [
    "x0 = Newton(g,2.0+t,0.0)\n",
    "#λ0 = Newton(g,x0, 0.0 + t)"
   ]
  },
  {
   "cell_type": "code",
   "execution_count": 173,
   "id": "5e1258f6-63a9-4940-ae5e-0eac8cdf1a7d",
   "metadata": {},
   "outputs": [
    {
     "data": {
      "text/plain": [
       "0.0"
      ]
     },
     "execution_count": 173,
     "metadata": {},
     "output_type": "execute_result"
    }
   ],
   "source": [
    "g(x0,0.0)"
   ]
  },
  {
   "cell_type": "code",
   "execution_count": 174,
   "id": "8530c902-9b2f-4ca0-af28-da17bc6507d8",
   "metadata": {},
   "outputs": [
    {
     "data": {
      "text/plain": [
       "1.5811388300841898"
      ]
     },
     "execution_count": 174,
     "metadata": {},
     "output_type": "execute_result"
    }
   ],
   "source": [
    "sqrt(5/2)"
   ]
  },
  {
   "cell_type": "code",
   "execution_count": 177,
   "id": "c760b377-6b2c-4ab7-9eb1-2abc16bc92f7",
   "metadata": {},
   "outputs": [
    {
     "ename": "LoadError",
     "evalue": "MethodError: objects of type Float64 are not callable\nMaybe you forgot to use an operator such as \u001b[36m*, ^, %, / etc. \u001b[39m?",
     "output_type": "error",
     "traceback": [
      "MethodError: objects of type Float64 are not callable\nMaybe you forgot to use an operator such as \u001b[36m*, ^, %, / etc. \u001b[39m?",
      "",
      "Stacktrace:",
      " [1] Estabilidad(f::typeof(g), x0::Float64, p0::Float64, Δp::Float64, Δx::Float64, p_min::Float64, p_max::Float64, orden::Int64; Nmax::Int64, ite::Int64, tol::Float64)",
      "   @ Main .\\In[169]:26",
      " [2] top-level scope",
      "   @ In[177]:10"
     ]
    }
   ],
   "source": [
    "x0 = 1.0\n",
    "p0 = 0.0\n",
    "\n",
    "Δp= 0.01\n",
    "Δx = 0.01\n",
    "p_min = 0.0\n",
    "p_max = 1.0\n",
    "orden = 20\n",
    "\n",
    "X, P = Estabilidad(g, x0, p0, Δp,Δx, p_min, p_max,orden; Nmax = 5000, ite = 20, tol = 1.e-16)"
   ]
  },
  {
   "cell_type": "code",
   "execution_count": 176,
   "id": "b3ec0b15-5df3-460f-a0ab-176cad13d0b0",
   "metadata": {},
   "outputs": [
    {
     "data": {
      "image/png": "[encoded data removed]",
      "image/svg+xml": [
       "<?xml version=\"1.0\" encoding=\"utf-8\"?>\n",
       "<svg xmlns=\"http://www.w3.org/2000/svg\" xmlns:xlink=\"http://www.w3.org/1999/xlink\" width=\"600\" height=\"400\" viewBox=\"0 0 2400 1600\">\n",
       "<defs>\n",
       "  <clipPath id=\"clip280\">\n",
       "    <rect x=\"0\" y=\"0\" width=\"2400\" height=\"1600\"/>\n",
       "  </clipPath>\n",
       "</defs>\n",
       "<path clip-path=\"url(#clip280)\" d=\"M0 1600 L2400 1600 L2400 0 L0 0  Z\" fill=\"#ffffff\" fill-rule=\"evenodd\" fill-opacity=\"1\"/>\n",
       "<defs>\n",
       "  <clipPath id=\"clip281\">\n",
       "    <rect x=\"480\" y=\"0\" width=\"1681\" height=\"1600\"/>\n",
       "  </clipPath>\n",
       "</defs>\n",
       "<path clip-path=\"url(#clip280)\" d=\"M214.353 1486.45 L2352.76 1486.45 L2352.76 47.2441 L214.353 47.2441  Z\" fill=\"#ffffff\" fill-rule=\"evenodd\" fill-opacity=\"1\"/>\n",
       "<defs>\n",
       "  <clipPath id=\"clip282\">\n",
       "    <rect x=\"214\" y=\"47\" width=\"2139\" height=\"1440\"/>\n",
       "  </clipPath>\n",
       "</defs>\n",
       "<polyline clip-path=\"url(#clip282)\" style=\"stroke:#000000; stroke-linecap:round; stroke-linejoin:round; stroke-width:2; stroke-opacity:0.1; fill:none\" points=\"274.873,1486.45 274.873,47.2441 \"/>\n",
       "<polyline clip-path=\"url(#clip282)\" style=\"stroke:#000000; stroke-linecap:round; stroke-linejoin:round; stroke-width:2; stroke-opacity:0.1; fill:none\" points=\"697.881,1486.45 697.881,47.2441 \"/>\n",
       "<polyline clip-path=\"url(#clip282)\" style=\"stroke:#000000; stroke-linecap:round; stroke-linejoin:round; stroke-width:2; stroke-opacity:0.1; fill:none\" points=\"1120.89,1486.45 1120.89,47.2441 \"/>\n",
       "<polyline clip-path=\"url(#clip282)\" style=\"stroke:#000000; stroke-linecap:round; stroke-linejoin:round; stroke-width:2; stroke-opacity:0.1; fill:none\" points=\"1543.9,1486.45 1543.9,47.2441 \"/>\n",
       "<polyline clip-path=\"url(#clip282)\" style=\"stroke:#000000; stroke-linecap:round; stroke-linejoin:round; stroke-width:2; stroke-opacity:0.1; fill:none\" points=\"1966.9,1486.45 1966.9,47.2441 \"/>\n",
       "<polyline clip-path=\"url(#clip280)\" style=\"stroke:#000000; stroke-linecap:round; stroke-linejoin:round; stroke-width:4; stroke-opacity:1; fill:none\" points=\"214.353,1486.45 2352.76,1486.45 \"/>\n",
       "<polyline clip-path=\"url(#clip280)\" style=\"stroke:#000000; stroke-linecap:round; stroke-linejoin:round; stroke-width:4; stroke-opacity:1; fill:none\" points=\"274.873,1486.45 274.873,1467.55 \"/>\n",
       "<polyline clip-path=\"url(#clip280)\" style=\"stroke:#000000; stroke-linecap:round; stroke-linejoin:round; stroke-width:4; stroke-opacity:1; fill:none\" points=\"697.881,1486.45 697.881,1467.55 \"/>\n",
       "<polyline clip-path=\"url(#clip280)\" style=\"stroke:#000000; stroke-linecap:round; stroke-linejoin:round; stroke-width:4; stroke-opacity:1; fill:none\" points=\"1120.89,1486.45 1120.89,1467.55 \"/>\n",
       "<polyline clip-path=\"url(#clip280)\" style=\"stroke:#000000; stroke-linecap:round; stroke-linejoin:round; stroke-width:4; stroke-opacity:1; fill:none\" points=\"1543.9,1486.45 1543.9,1467.55 \"/>\n",
       "<polyline clip-path=\"url(#clip280)\" style=\"stroke:#000000; stroke-linecap:round; stroke-linejoin:round; stroke-width:4; stroke-opacity:1; fill:none\" points=\"1966.9,1486.45 1966.9,1467.55 \"/>\n",
       "<path clip-path=\"url(#clip280)\" d=\"M252.258 1517.37 Q248.647 1517.37 246.818 1520.93 Q245.012 1524.47 245.012 1531.6 Q245.012 1538.71 246.818 1542.27 Q248.647 1545.82 252.258 1545.82 Q255.892 1545.82 257.698 1542.27 Q259.526 1538.71 259.526 1531.6 Q259.526 1524.47 257.698 1520.93 Q255.892 1517.37 252.258 1517.37 M252.258 1513.66 Q258.068 1513.66 261.123 1518.27 Q264.202 1522.85 264.202 1531.6 Q264.202 1540.33 261.123 1544.94 Q258.068 1549.52 252.258 1549.52 Q246.448 1549.52 243.369 1544.94 Q240.313 1540.33 240.313 1531.6 Q240.313 1522.85 243.369 1518.27 Q246.448 1513.66 252.258 1513.66 Z\" fill=\"#000000\" fill-rule=\"nonzero\" fill-opacity=\"1\" /><path clip-path=\"url(#clip280)\" d=\"M272.42 1542.97 L277.304 1542.97 L277.304 1548.85 L272.42 1548.85 L272.42 1542.97 Z\" fill=\"#000000\" fill-rule=\"nonzero\" fill-opacity=\"1\" /><path clip-path=\"url(#clip280)\" d=\"M297.489 1517.37 Q293.878 1517.37 292.049 1520.93 Q290.244 1524.47 290.244 1531.6 Q290.244 1538.71 292.049 1542.27 Q293.878 1545.82 297.489 1545.82 Q301.123 1545.82 302.929 1542.27 Q304.758 1538.71 304.758 1531.6 Q304.758 1524.47 302.929 1520.93 Q301.123 1517.37 297.489 1517.37 M297.489 1513.66 Q303.299 1513.66 306.355 1518.27 Q309.433 1522.85 309.433 1531.6 Q309.433 1540.33 306.355 1544.94 Q303.299 1549.52 297.489 1549.52 Q291.679 1549.52 288.6 1544.94 Q285.545 1540.33 285.545 1531.6 Q285.545 1522.85 288.6 1518.27 Q291.679 1513.66 297.489 1513.66 Z\" fill=\"#000000\" fill-rule=\"nonzero\" fill-opacity=\"1\" /><path clip-path=\"url(#clip280)\" d=\"M675.879 1517.37 Q672.268 1517.37 670.439 1520.93 Q668.633 1524.47 668.633 1531.6 Q668.633 1538.71 670.439 1542.27 Q672.268 1545.82 675.879 1545.82 Q679.513 1545.82 681.319 1542.27 Q683.147 1538.71 683.147 1531.6 Q683.147 1524.47 681.319 1520.93 Q679.513 1517.37 675.879 1517.37 M675.879 1513.66 Q681.689 1513.66 684.744 1518.27 Q687.823 1522.85 687.823 1531.6 Q687.823 1540.33 684.744 1544.94 Q681.689 1549.52 675.879 1549.52 Q670.069 1549.52 666.99 1544.94 Q663.934 1540.33 663.934 1531.6 Q663.934 1522.85 666.99 1518.27 Q670.069 1513.66 675.879 1513.66 Z\" fill=\"#000000\" fill-rule=\"nonzero\" fill-opacity=\"1\" /><path clip-path=\"url(#clip280)\" d=\"M696.041 1542.97 L700.925 1542.97 L700.925 1548.85 L696.041 1548.85 L696.041 1542.97 Z\" fill=\"#000000\" fill-rule=\"nonzero\" fill-opacity=\"1\" /><path clip-path=\"url(#clip280)\" d=\"M711.92 1544.91 L719.559 1544.91 L719.559 1518.55 L711.249 1520.21 L711.249 1515.95 L719.513 1514.29 L724.189 1514.29 L724.189 1544.91 L731.828 1544.91 L731.828 1548.85 L711.92 1548.85 L711.92 1544.91 Z\" fill=\"#000000\" fill-rule=\"nonzero\" fill-opacity=\"1\" /><path clip-path=\"url(#clip280)\" d=\"M1099.07 1517.37 Q1095.46 1517.37 1093.63 1520.93 Q1091.83 1524.47 1091.83 1531.6 Q1091.83 1538.71 1093.63 1542.27 Q1095.46 1545.82 1099.07 1545.82 Q1102.71 1545.82 1104.51 1542.27 Q1106.34 1538.71 1106.34 1531.6 Q1106.34 1524.47 1104.51 1520.93 Q1102.71 1517.37 1099.07 1517.37 M1099.07 1513.66 Q1104.88 1513.66 1107.94 1518.27 Q1111.02 1522.85 1111.02 1531.6 Q1111.02 1540.33 1107.94 1544.94 Q1104.88 1549.52 1099.07 1549.52 Q1093.26 1549.52 1090.18 1544.94 Q1087.13 1540.33 1087.13 1531.6 Q1087.13 1522.85 1090.18 1518.27 Q1093.26 1513.66 1099.07 1513.66 Z\" fill=\"#000000\" fill-rule=\"nonzero\" fill-opacity=\"1\" /><path clip-path=\"url(#clip280)\" d=\"M1119.23 1542.97 L1124.12 1542.97 L1124.12 1548.85 L1119.23 1548.85 L1119.23 1542.97 Z\" fill=\"#000000\" fill-rule=\"nonzero\" fill-opacity=\"1\" /><path clip-path=\"url(#clip280)\" d=\"M1138.33 1544.91 L1154.65 1544.91 L1154.65 1548.85 L1132.71 1548.85 L1132.71 1544.91 Q1135.37 1542.16 1139.95 1537.53 Q1144.56 1532.88 1145.74 1531.53 Q1147.98 1529.01 1148.86 1527.27 Q1149.77 1525.51 1149.77 1523.82 Q1149.77 1521.07 1147.82 1519.33 Q1145.9 1517.6 1142.8 1517.6 Q1140.6 1517.6 1138.15 1518.36 Q1135.71 1519.13 1132.94 1520.68 L1132.94 1515.95 Q1135.76 1514.82 1138.21 1514.24 Q1140.67 1513.66 1142.71 1513.66 Q1148.08 1513.66 1151.27 1516.35 Q1154.46 1519.03 1154.46 1523.52 Q1154.46 1525.65 1153.65 1527.57 Q1152.87 1529.47 1150.76 1532.07 Q1150.18 1532.74 1147.08 1535.95 Q1143.98 1539.15 1138.33 1544.91 Z\" fill=\"#000000\" fill-rule=\"nonzero\" fill-opacity=\"1\" /><path clip-path=\"url(#clip280)\" d=\"M1521.6 1517.37 Q1517.99 1517.37 1516.16 1520.93 Q1514.36 1524.47 1514.36 1531.6 Q1514.36 1538.71 1516.16 1542.27 Q1517.99 1545.82 1521.6 1545.82 Q1525.24 1545.82 1527.04 1542.27 Q1528.87 1538.71 1528.87 1531.6 Q1528.87 1524.47 1527.04 1520.93 Q1525.24 1517.37 1521.6 1517.37 M1521.6 1513.66 Q1527.41 1513.66 1530.47 1518.27 Q1533.55 1522.85 1533.55 1531.6 Q1533.55 1540.33 1530.47 1544.94 Q1527.41 1549.52 1521.6 1549.52 Q1515.79 1549.52 1512.72 1544.94 Q1509.66 1540.33 1509.66 1531.6 Q1509.66 1522.85 1512.72 1518.27 Q1515.79 1513.66 1521.6 1513.66 Z\" fill=\"#000000\" fill-rule=\"nonzero\" fill-opacity=\"1\" /><path clip-path=\"url(#clip280)\" d=\"M1541.77 1542.97 L1546.65 1542.97 L1546.65 1548.85 L1541.77 1548.85 L1541.77 1542.97 Z\" fill=\"#000000\" fill-rule=\"nonzero\" fill-opacity=\"1\" /><path clip-path=\"url(#clip280)\" d=\"M1571 1530.21 Q1574.36 1530.93 1576.23 1533.2 Q1578.13 1535.47 1578.13 1538.8 Q1578.13 1543.92 1574.61 1546.72 Q1571.1 1549.52 1564.61 1549.52 Q1562.44 1549.52 1560.12 1549.08 Q1557.83 1548.66 1555.38 1547.81 L1555.38 1543.29 Q1557.32 1544.43 1559.64 1545.01 Q1561.95 1545.58 1564.47 1545.58 Q1568.87 1545.58 1571.16 1543.85 Q1573.48 1542.11 1573.48 1538.8 Q1573.48 1535.75 1571.33 1534.03 Q1569.2 1532.3 1565.38 1532.3 L1561.35 1532.3 L1561.35 1528.45 L1565.56 1528.45 Q1569.01 1528.45 1570.84 1527.09 Q1572.67 1525.7 1572.67 1523.11 Q1572.67 1520.45 1570.77 1519.03 Q1568.9 1517.6 1565.38 1517.6 Q1563.46 1517.6 1561.26 1518.01 Q1559.06 1518.43 1556.42 1519.31 L1556.42 1515.14 Q1559.08 1514.4 1561.4 1514.03 Q1563.73 1513.66 1565.79 1513.66 Q1571.12 1513.66 1574.22 1516.09 Q1577.32 1518.5 1577.32 1522.62 Q1577.32 1525.49 1575.68 1527.48 Q1574.03 1529.45 1571 1530.21 Z\" fill=\"#000000\" fill-rule=\"nonzero\" fill-opacity=\"1\" /><path clip-path=\"url(#clip280)\" d=\"M1944.04 1517.37 Q1940.43 1517.37 1938.61 1520.93 Q1936.8 1524.47 1936.8 1531.6 Q1936.8 1538.71 1938.61 1542.27 Q1940.43 1545.82 1944.04 1545.82 Q1947.68 1545.82 1949.48 1542.27 Q1951.31 1538.71 1951.31 1531.6 Q1951.31 1524.47 1949.48 1520.93 Q1947.68 1517.37 1944.04 1517.37 M1944.04 1513.66 Q1949.86 1513.66 1952.91 1518.27 Q1955.99 1522.85 1955.99 1531.6 Q1955.99 1540.33 1952.91 1544.94 Q1949.86 1549.52 1944.04 1549.52 Q1938.23 1549.52 1935.16 1544.94 Q1932.1 1540.33 1932.1 1531.6 Q1932.1 1522.85 1935.16 1518.27 Q1938.23 1513.66 1944.04 1513.66 Z\" fill=\"#000000\" fill-rule=\"nonzero\" fill-opacity=\"1\" /><path clip-path=\"url(#clip280)\" d=\"M1964.21 1542.97 L1969.09 1542.97 L1969.09 1548.85 L1964.21 1548.85 L1964.21 1542.97 Z\" fill=\"#000000\" fill-rule=\"nonzero\" fill-opacity=\"1\" /><path clip-path=\"url(#clip280)\" d=\"M1992.12 1518.36 L1980.32 1536.81 L1992.12 1536.81 L1992.12 1518.36 M1990.9 1514.29 L1996.78 1514.29 L1996.78 1536.81 L2001.71 1536.81 L2001.71 1540.7 L1996.78 1540.7 L1996.78 1548.85 L1992.12 1548.85 L1992.12 1540.7 L1976.52 1540.7 L1976.52 1536.19 L1990.9 1514.29 Z\" fill=\"#000000\" fill-rule=\"nonzero\" fill-opacity=\"1\" /><polyline clip-path=\"url(#clip282)\" style=\"stroke:#000000; stroke-linecap:round; stroke-linejoin:round; stroke-width:2; stroke-opacity:0.1; fill:none\" points=\"214.353,1445.72 2352.76,1445.72 \"/>\n",
       "<polyline clip-path=\"url(#clip282)\" style=\"stroke:#000000; stroke-linecap:round; stroke-linejoin:round; stroke-width:2; stroke-opacity:0.1; fill:none\" points=\"214.353,1145.96 2352.76,1145.96 \"/>\n",
       "<polyline clip-path=\"url(#clip282)\" style=\"stroke:#000000; stroke-linecap:round; stroke-linejoin:round; stroke-width:2; stroke-opacity:0.1; fill:none\" points=\"214.353,846.207 2352.76,846.207 \"/>\n",
       "<polyline clip-path=\"url(#clip282)\" style=\"stroke:#000000; stroke-linecap:round; stroke-linejoin:round; stroke-width:2; stroke-opacity:0.1; fill:none\" points=\"214.353,546.452 2352.76,546.452 \"/>\n",
       "<polyline clip-path=\"url(#clip282)\" style=\"stroke:#000000; stroke-linecap:round; stroke-linejoin:round; stroke-width:2; stroke-opacity:0.1; fill:none\" points=\"214.353,246.698 2352.76,246.698 \"/>\n",
       "<polyline clip-path=\"url(#clip280)\" style=\"stroke:#000000; stroke-linecap:round; stroke-linejoin:round; stroke-width:4; stroke-opacity:1; fill:none\" points=\"214.353,1486.45 214.353,47.2441 \"/>\n",
       "<polyline clip-path=\"url(#clip280)\" style=\"stroke:#000000; stroke-linecap:round; stroke-linejoin:round; stroke-width:4; stroke-opacity:1; fill:none\" points=\"214.353,1445.72 233.25,1445.72 \"/>\n",
       "<polyline clip-path=\"url(#clip280)\" style=\"stroke:#000000; stroke-linecap:round; stroke-linejoin:round; stroke-width:4; stroke-opacity:1; fill:none\" points=\"214.353,1145.96 233.25,1145.96 \"/>\n",
       "<polyline clip-path=\"url(#clip280)\" style=\"stroke:#000000; stroke-linecap:round; stroke-linejoin:round; stroke-width:4; stroke-opacity:1; fill:none\" points=\"214.353,846.207 233.25,846.207 \"/>\n",
       "<polyline clip-path=\"url(#clip280)\" style=\"stroke:#000000; stroke-linecap:round; stroke-linejoin:round; stroke-width:4; stroke-opacity:1; fill:none\" points=\"214.353,546.452 233.25,546.452 \"/>\n",
       "<polyline clip-path=\"url(#clip280)\" style=\"stroke:#000000; stroke-linecap:round; stroke-linejoin:round; stroke-width:4; stroke-opacity:1; fill:none\" points=\"214.353,246.698 233.25,246.698 \"/>\n",
       "<path clip-path=\"url(#clip280)\" d=\"M51.6634 1459.06 L59.3023 1459.06 L59.3023 1432.69 L50.9921 1434.36 L50.9921 1430.1 L59.256 1428.44 L63.9319 1428.44 L63.9319 1459.06 L71.5707 1459.06 L71.5707 1463 L51.6634 1463 L51.6634 1459.06 Z\" fill=\"#000000\" fill-rule=\"nonzero\" fill-opacity=\"1\" /><path clip-path=\"url(#clip280)\" d=\"M81.0151 1457.12 L85.8993 1457.12 L85.8993 1463 L81.0151 1463 L81.0151 1457.12 Z\" fill=\"#000000\" fill-rule=\"nonzero\" fill-opacity=\"1\" /><path clip-path=\"url(#clip280)\" d=\"M106.084 1431.51 Q102.473 1431.51 100.645 1435.08 Q98.8391 1438.62 98.8391 1445.75 Q98.8391 1452.86 100.645 1456.42 Q102.473 1459.96 106.084 1459.96 Q109.719 1459.96 111.524 1456.42 Q113.353 1452.86 113.353 1445.75 Q113.353 1438.62 111.524 1435.08 Q109.719 1431.51 106.084 1431.51 M106.084 1427.81 Q111.895 1427.81 114.95 1432.42 Q118.029 1437 118.029 1445.75 Q118.029 1454.48 114.95 1459.08 Q111.895 1463.67 106.084 1463.67 Q100.274 1463.67 97.1956 1459.08 Q94.14 1454.48 94.14 1445.75 Q94.14 1437 97.1956 1432.42 Q100.274 1427.81 106.084 1427.81 Z\" fill=\"#000000\" fill-rule=\"nonzero\" fill-opacity=\"1\" /><path clip-path=\"url(#clip280)\" d=\"M136.246 1431.51 Q132.635 1431.51 130.807 1435.08 Q129.001 1438.62 129.001 1445.75 Q129.001 1452.86 130.807 1456.42 Q132.635 1459.96 136.246 1459.96 Q139.881 1459.96 141.686 1456.42 Q143.515 1452.86 143.515 1445.75 Q143.515 1438.62 141.686 1435.08 Q139.881 1431.51 136.246 1431.51 M136.246 1427.81 Q142.056 1427.81 145.112 1432.42 Q148.191 1437 148.191 1445.75 Q148.191 1454.48 145.112 1459.08 Q142.056 1463.67 136.246 1463.67 Q130.436 1463.67 127.357 1459.08 Q124.302 1454.48 124.302 1445.75 Q124.302 1437 127.357 1432.42 Q130.436 1427.81 136.246 1427.81 Z\" fill=\"#000000\" fill-rule=\"nonzero\" fill-opacity=\"1\" /><path clip-path=\"url(#clip280)\" d=\"M166.408 1431.51 Q162.797 1431.51 160.968 1435.08 Q159.163 1438.62 159.163 1445.75 Q159.163 1452.86 160.968 1456.42 Q162.797 1459.96 166.408 1459.96 Q170.042 1459.96 171.848 1456.42 Q173.677 1452.86 173.677 1445.75 Q173.677 1438.62 171.848 1435.08 Q170.042 1431.51 166.408 1431.51 M166.408 1427.81 Q172.218 1427.81 175.274 1432.42 Q178.353 1437 178.353 1445.75 Q178.353 1454.48 175.274 1459.08 Q172.218 1463.67 166.408 1463.67 Q160.598 1463.67 157.519 1459.08 Q154.464 1454.48 154.464 1445.75 Q154.464 1437 157.519 1432.42 Q160.598 1427.81 166.408 1427.81 Z\" fill=\"#000000\" fill-rule=\"nonzero\" fill-opacity=\"1\" /><path clip-path=\"url(#clip280)\" d=\"M52.6588 1159.31 L60.2976 1159.31 L60.2976 1132.94 L51.9875 1134.61 L51.9875 1130.35 L60.2513 1128.68 L64.9272 1128.68 L64.9272 1159.31 L72.5661 1159.31 L72.5661 1163.24 L52.6588 1163.24 L52.6588 1159.31 Z\" fill=\"#000000\" fill-rule=\"nonzero\" fill-opacity=\"1\" /><path clip-path=\"url(#clip280)\" d=\"M82.0105 1157.36 L86.8947 1157.36 L86.8947 1163.24 L82.0105 1163.24 L82.0105 1157.36 Z\" fill=\"#000000\" fill-rule=\"nonzero\" fill-opacity=\"1\" /><path clip-path=\"url(#clip280)\" d=\"M107.08 1131.76 Q103.469 1131.76 101.64 1135.32 Q99.8345 1138.87 99.8345 1146 Q99.8345 1153.1 101.64 1156.67 Q103.469 1160.21 107.08 1160.21 Q110.714 1160.21 112.52 1156.67 Q114.348 1153.1 114.348 1146 Q114.348 1138.87 112.52 1135.32 Q110.714 1131.76 107.08 1131.76 M107.08 1128.06 Q112.89 1128.06 115.945 1132.66 Q119.024 1137.25 119.024 1146 Q119.024 1154.72 115.945 1159.33 Q112.89 1163.91 107.08 1163.91 Q101.27 1163.91 98.1909 1159.33 Q95.1354 1154.72 95.1354 1146 Q95.1354 1137.25 98.1909 1132.66 Q101.27 1128.06 107.08 1128.06 Z\" fill=\"#000000\" fill-rule=\"nonzero\" fill-opacity=\"1\" /><path clip-path=\"url(#clip280)\" d=\"M131.269 1159.31 L147.589 1159.31 L147.589 1163.24 L125.645 1163.24 L125.645 1159.31 Q128.307 1156.55 132.89 1151.92 Q137.496 1147.27 138.677 1145.93 Q140.922 1143.4 141.802 1141.67 Q142.705 1139.91 142.705 1138.22 Q142.705 1135.46 140.76 1133.73 Q138.839 1131.99 135.737 1131.99 Q133.538 1131.99 131.084 1132.76 Q128.654 1133.52 125.876 1135.07 L125.876 1130.35 Q128.7 1129.21 131.154 1128.63 Q133.607 1128.06 135.644 1128.06 Q141.015 1128.06 144.209 1130.74 Q147.404 1133.43 147.404 1137.92 Q147.404 1140.05 146.593 1141.97 Q145.806 1143.87 143.7 1146.46 Q143.121 1147.13 140.019 1150.35 Q136.918 1153.54 131.269 1159.31 Z\" fill=\"#000000\" fill-rule=\"nonzero\" fill-opacity=\"1\" /><path clip-path=\"url(#clip280)\" d=\"M157.45 1128.68 L175.806 1128.68 L175.806 1132.62 L161.732 1132.62 L161.732 1141.09 Q162.751 1140.74 163.769 1140.58 Q164.788 1140.39 165.806 1140.39 Q171.593 1140.39 174.973 1143.57 Q178.353 1146.74 178.353 1152.15 Q178.353 1157.73 174.88 1160.83 Q171.408 1163.91 165.089 1163.91 Q162.913 1163.91 160.644 1163.54 Q158.399 1163.17 155.992 1162.43 L155.992 1157.73 Q158.075 1158.87 160.297 1159.42 Q162.519 1159.98 164.996 1159.98 Q169.001 1159.98 171.339 1157.87 Q173.677 1155.76 173.677 1152.15 Q173.677 1148.54 171.339 1146.44 Q169.001 1144.33 164.996 1144.33 Q163.121 1144.33 161.246 1144.75 Q159.394 1145.16 157.45 1146.04 L157.45 1128.68 Z\" fill=\"#000000\" fill-rule=\"nonzero\" fill-opacity=\"1\" /><path clip-path=\"url(#clip280)\" d=\"M51.6634 859.552 L59.3023 859.552 L59.3023 833.186 L50.9921 834.853 L50.9921 830.594 L59.256 828.927 L63.9319 828.927 L63.9319 859.552 L71.5707 859.552 L71.5707 863.487 L51.6634 863.487 L51.6634 859.552 Z\" fill=\"#000000\" fill-rule=\"nonzero\" fill-opacity=\"1\" /><path clip-path=\"url(#clip280)\" d=\"M81.0151 857.607 L85.8993 857.607 L85.8993 863.487 L81.0151 863.487 L81.0151 857.607 Z\" fill=\"#000000\" fill-rule=\"nonzero\" fill-opacity=\"1\" /><path clip-path=\"url(#clip280)\" d=\"M106.084 832.006 Q102.473 832.006 100.645 835.57 Q98.8391 839.112 98.8391 846.242 Q98.8391 853.348 100.645 856.913 Q102.473 860.454 106.084 860.454 Q109.719 860.454 111.524 856.913 Q113.353 853.348 113.353 846.242 Q113.353 839.112 111.524 835.57 Q109.719 832.006 106.084 832.006 M106.084 828.302 Q111.895 828.302 114.95 832.908 Q118.029 837.492 118.029 846.242 Q118.029 854.968 114.95 859.575 Q111.895 864.158 106.084 864.158 Q100.274 864.158 97.1956 859.575 Q94.14 854.968 94.14 846.242 Q94.14 837.492 97.1956 832.908 Q100.274 828.302 106.084 828.302 Z\" fill=\"#000000\" fill-rule=\"nonzero\" fill-opacity=\"1\" /><path clip-path=\"url(#clip280)\" d=\"M126.293 828.927 L144.649 828.927 L144.649 832.862 L130.575 832.862 L130.575 841.334 Q131.594 840.987 132.612 840.825 Q133.631 840.64 134.649 840.64 Q140.436 840.64 143.816 843.811 Q147.195 846.982 147.195 852.399 Q147.195 857.978 143.723 861.079 Q140.251 864.158 133.931 864.158 Q131.756 864.158 129.487 863.788 Q127.242 863.417 124.834 862.677 L124.834 857.978 Q126.918 859.112 129.14 859.667 Q131.362 860.223 133.839 860.223 Q137.844 860.223 140.181 858.117 Q142.519 856.01 142.519 852.399 Q142.519 848.788 140.181 846.681 Q137.844 844.575 133.839 844.575 Q131.964 844.575 130.089 844.992 Q128.237 845.408 126.293 846.288 L126.293 828.927 Z\" fill=\"#000000\" fill-rule=\"nonzero\" fill-opacity=\"1\" /><path clip-path=\"url(#clip280)\" d=\"M166.408 832.006 Q162.797 832.006 160.968 835.57 Q159.163 839.112 159.163 846.242 Q159.163 853.348 160.968 856.913 Q162.797 860.454 166.408 860.454 Q170.042 860.454 171.848 856.913 Q173.677 853.348 173.677 846.242 Q173.677 839.112 171.848 835.57 Q170.042 832.006 166.408 832.006 M166.408 828.302 Q172.218 828.302 175.274 832.908 Q178.353 837.492 178.353 846.242 Q178.353 854.968 175.274 859.575 Q172.218 864.158 166.408 864.158 Q160.598 864.158 157.519 859.575 Q154.464 854.968 154.464 846.242 Q154.464 837.492 157.519 832.908 Q160.598 828.302 166.408 828.302 Z\" fill=\"#000000\" fill-rule=\"nonzero\" fill-opacity=\"1\" /><path clip-path=\"url(#clip280)\" d=\"M52.6588 559.797 L60.2976 559.797 L60.2976 533.432 L51.9875 535.098 L51.9875 530.839 L60.2513 529.172 L64.9272 529.172 L64.9272 559.797 L72.5661 559.797 L72.5661 563.732 L52.6588 563.732 L52.6588 559.797 Z\" fill=\"#000000\" fill-rule=\"nonzero\" fill-opacity=\"1\" /><path clip-path=\"url(#clip280)\" d=\"M82.0105 557.853 L86.8947 557.853 L86.8947 563.732 L82.0105 563.732 L82.0105 557.853 Z\" fill=\"#000000\" fill-rule=\"nonzero\" fill-opacity=\"1\" /><path clip-path=\"url(#clip280)\" d=\"M107.08 532.251 Q103.469 532.251 101.64 535.816 Q99.8345 539.358 99.8345 546.487 Q99.8345 553.594 101.64 557.158 Q103.469 560.7 107.08 560.7 Q110.714 560.7 112.52 557.158 Q114.348 553.594 114.348 546.487 Q114.348 539.358 112.52 535.816 Q110.714 532.251 107.08 532.251 M107.08 528.547 Q112.89 528.547 115.945 533.154 Q119.024 537.737 119.024 546.487 Q119.024 555.214 115.945 559.82 Q112.89 564.404 107.08 564.404 Q101.27 564.404 98.1909 559.82 Q95.1354 555.214 95.1354 546.487 Q95.1354 537.737 98.1909 533.154 Q101.27 528.547 107.08 528.547 Z\" fill=\"#000000\" fill-rule=\"nonzero\" fill-opacity=\"1\" /><path clip-path=\"url(#clip280)\" d=\"M126.061 529.172 L148.283 529.172 L148.283 531.163 L135.737 563.732 L130.853 563.732 L142.658 533.108 L126.061 533.108 L126.061 529.172 Z\" fill=\"#000000\" fill-rule=\"nonzero\" fill-opacity=\"1\" /><path clip-path=\"url(#clip280)\" d=\"M157.45 529.172 L175.806 529.172 L175.806 533.108 L161.732 533.108 L161.732 541.58 Q162.751 541.233 163.769 541.071 Q164.788 540.885 165.806 540.885 Q171.593 540.885 174.973 544.057 Q178.353 547.228 178.353 552.645 Q178.353 558.223 174.88 561.325 Q171.408 564.404 165.089 564.404 Q162.913 564.404 160.644 564.033 Q158.399 563.663 155.992 562.922 L155.992 558.223 Q158.075 559.357 160.297 559.913 Q162.519 560.469 164.996 560.469 Q169.001 560.469 171.339 558.362 Q173.677 556.256 173.677 552.645 Q173.677 549.033 171.339 546.927 Q169.001 544.821 164.996 544.821 Q163.121 544.821 161.246 545.237 Q159.394 545.654 157.45 546.533 L157.45 529.172 Z\" fill=\"#000000\" fill-rule=\"nonzero\" fill-opacity=\"1\" /><path clip-path=\"url(#clip280)\" d=\"M51.6634 260.043 L59.3023 260.043 L59.3023 233.677 L50.9921 235.344 L50.9921 231.085 L59.256 229.418 L63.9319 229.418 L63.9319 260.043 L71.5707 260.043 L71.5707 263.978 L51.6634 263.978 L51.6634 260.043 Z\" fill=\"#000000\" fill-rule=\"nonzero\" fill-opacity=\"1\" /><path clip-path=\"url(#clip280)\" d=\"M81.0151 258.098 L85.8993 258.098 L85.8993 263.978 L81.0151 263.978 L81.0151 258.098 Z\" fill=\"#000000\" fill-rule=\"nonzero\" fill-opacity=\"1\" /><path clip-path=\"url(#clip280)\" d=\"M96.8947 260.043 L104.534 260.043 L104.534 233.677 L96.2234 235.344 L96.2234 231.085 L104.487 229.418 L109.163 229.418 L109.163 260.043 L116.802 260.043 L116.802 263.978 L96.8947 263.978 L96.8947 260.043 Z\" fill=\"#000000\" fill-rule=\"nonzero\" fill-opacity=\"1\" /><path clip-path=\"url(#clip280)\" d=\"M136.246 232.497 Q132.635 232.497 130.807 236.062 Q129.001 239.603 129.001 246.733 Q129.001 253.839 130.807 257.404 Q132.635 260.946 136.246 260.946 Q139.881 260.946 141.686 257.404 Q143.515 253.839 143.515 246.733 Q143.515 239.603 141.686 236.062 Q139.881 232.497 136.246 232.497 M136.246 228.793 Q142.056 228.793 145.112 233.399 Q148.191 237.983 148.191 246.733 Q148.191 255.46 145.112 260.066 Q142.056 264.649 136.246 264.649 Q130.436 264.649 127.357 260.066 Q124.302 255.46 124.302 246.733 Q124.302 237.983 127.357 233.399 Q130.436 228.793 136.246 228.793 Z\" fill=\"#000000\" fill-rule=\"nonzero\" fill-opacity=\"1\" /><path clip-path=\"url(#clip280)\" d=\"M166.408 232.497 Q162.797 232.497 160.968 236.062 Q159.163 239.603 159.163 246.733 Q159.163 253.839 160.968 257.404 Q162.797 260.946 166.408 260.946 Q170.042 260.946 171.848 257.404 Q173.677 253.839 173.677 246.733 Q173.677 239.603 171.848 236.062 Q170.042 232.497 166.408 232.497 M166.408 228.793 Q172.218 228.793 175.274 233.399 Q178.353 237.983 178.353 246.733 Q178.353 255.46 175.274 260.066 Q172.218 264.649 166.408 264.649 Q160.598 264.649 157.519 260.066 Q154.464 255.46 154.464 246.733 Q154.464 237.983 157.519 233.399 Q160.598 228.793 166.408 228.793 Z\" fill=\"#000000\" fill-rule=\"nonzero\" fill-opacity=\"1\" /><polyline clip-path=\"url(#clip282)\" style=\"stroke:#009af9; stroke-linecap:round; stroke-linejoin:round; stroke-width:4; stroke-opacity:1; fill:none\" points=\"274.873,1445.72 317.174,1423.54 358.769,1401.55 400.353,1379.38 441.925,1357.02 483.484,1334.49 525.032,1311.76 566.566,1288.85 608.088,1265.74 649.596,1242.42 691.09,1218.91 732.57,1195.19 774.035,1171.27 815.486,1147.12 856.921,1122.77 898.34,1098.18 939.743,1073.38 981.129,1048.34 1022.5,1023.06 1063.85,997.547 1105.18,971.786 1146.5,945.776 1187.79,919.509 1229.06,892.982 1270.32,866.188 1311.55,839.121 1352.76,811.776 1393.95,784.146 1435.11,756.224 1476.25,728.005 1517.36,699.481 1558.45,670.644 1599.51,641.488 1640.55,612.004 1681.55,582.185 1722.52,552.021 1763.47,521.506 1804.38,490.628 1845.25,459.379 1886.09,427.749 1926.9,395.727 1967.67,363.304 2008.39,330.467 2049.08,297.204 2089.72,263.505 2130.32,229.355 2170.88,194.742 2211.38,159.651 2251.83,124.068 2292.24,87.9763 \"/>\n",
       "<path clip-path=\"url(#clip280)\" d=\"M285.633 198.898 L551.903 198.898 L551.903 95.2176 L285.633 95.2176  Z\" fill=\"#ffffff\" fill-rule=\"evenodd\" fill-opacity=\"1\"/>\n",
       "<polyline clip-path=\"url(#clip280)\" style=\"stroke:#000000; stroke-linecap:round; stroke-linejoin:round; stroke-width:4; stroke-opacity:1; fill:none\" points=\"285.633,198.898 551.903,198.898 551.903,95.2176 285.633,95.2176 285.633,198.898 \"/>\n",
       "<polyline clip-path=\"url(#clip280)\" style=\"stroke:#009af9; stroke-linecap:round; stroke-linejoin:round; stroke-width:4; stroke-opacity:1; fill:none\" points=\"309.393,147.058 451.953,147.058 \"/>\n",
       "<path clip-path=\"url(#clip280)\" d=\"M489.555 166.745 Q487.75 171.375 486.037 172.787 Q484.324 174.199 481.454 174.199 L478.051 174.199 L478.051 170.634 L480.551 170.634 Q482.31 170.634 483.282 169.8 Q484.255 168.967 485.435 165.865 L486.199 163.921 L475.713 138.412 L480.227 138.412 L488.329 158.689 L496.43 138.412 L500.944 138.412 L489.555 166.745 Z\" fill=\"#000000\" fill-rule=\"nonzero\" fill-opacity=\"1\" /><path clip-path=\"url(#clip280)\" d=\"M508.236 160.402 L515.875 160.402 L515.875 134.037 L507.565 135.703 L507.565 131.444 L515.828 129.778 L520.504 129.778 L520.504 160.402 L528.143 160.402 L528.143 164.338 L508.236 164.338 L508.236 160.402 Z\" fill=\"#000000\" fill-rule=\"nonzero\" fill-opacity=\"1\" /></svg>\n"
      ],
      "text/html": [
       "<?xml version=\"1.0\" encoding=\"utf-8\"?>\n",
       "<svg xmlns=\"http://www.w3.org/2000/svg\" xmlns:xlink=\"http://www.w3.org/1999/xlink\" width=\"600\" height=\"400\" viewBox=\"0 0 2400 1600\">\n",
       "<defs>\n",
       "  <clipPath id=\"clip330\">\n",
       "    <rect x=\"0\" y=\"0\" width=\"2400\" height=\"1600\"/>\n",
       "  </clipPath>\n",
       "</defs>\n",
       "<path clip-path=\"url(#clip330)\" d=\"M0 1600 L2400 1600 L2400 0 L0 0  Z\" fill=\"#ffffff\" fill-rule=\"evenodd\" fill-opacity=\"1\"/>\n",
       "<defs>\n",
       "  <clipPath id=\"clip331\">\n",
       "    <rect x=\"480\" y=\"0\" width=\"1681\" height=\"1600\"/>\n",
       "  </clipPath>\n",
       "</defs>\n",
       "<path clip-path=\"url(#clip330)\" d=\"M214.353 1486.45 L2352.76 1486.45 L2352.76 47.2441 L214.353 47.2441  Z\" fill=\"#ffffff\" fill-rule=\"evenodd\" fill-opacity=\"1\"/>\n",
       "<defs>\n",
       "  <clipPath id=\"clip332\">\n",
       "    <rect x=\"214\" y=\"47\" width=\"2139\" height=\"1440\"/>\n",
       "  </clipPath>\n",
       "</defs>\n",
       "<polyline clip-path=\"url(#clip332)\" style=\"stroke:#000000; stroke-linecap:round; stroke-linejoin:round; stroke-width:2; stroke-opacity:0.1; fill:none\" points=\"274.873,1486.45 274.873,47.2441 \"/>\n",
       "<polyline clip-path=\"url(#clip332)\" style=\"stroke:#000000; stroke-linecap:round; stroke-linejoin:round; stroke-width:2; stroke-opacity:0.1; fill:none\" points=\"697.881,1486.45 697.881,47.2441 \"/>\n",
       "<polyline clip-path=\"url(#clip332)\" style=\"stroke:#000000; stroke-linecap:round; stroke-linejoin:round; stroke-width:2; stroke-opacity:0.1; fill:none\" points=\"1120.89,1486.45 1120.89,47.2441 \"/>\n",
       "<polyline clip-path=\"url(#clip332)\" style=\"stroke:#000000; stroke-linecap:round; stroke-linejoin:round; stroke-width:2; stroke-opacity:0.1; fill:none\" points=\"1543.9,1486.45 1543.9,47.2441 \"/>\n",
       "<polyline clip-path=\"url(#clip332)\" style=\"stroke:#000000; stroke-linecap:round; stroke-linejoin:round; stroke-width:2; stroke-opacity:0.1; fill:none\" points=\"1966.9,1486.45 1966.9,47.2441 \"/>\n",
       "<polyline clip-path=\"url(#clip330)\" style=\"stroke:#000000; stroke-linecap:round; stroke-linejoin:round; stroke-width:4; stroke-opacity:1; fill:none\" points=\"214.353,1486.45 2352.76,1486.45 \"/>\n",
       "<polyline clip-path=\"url(#clip330)\" style=\"stroke:#000000; stroke-linecap:round; stroke-linejoin:round; stroke-width:4; stroke-opacity:1; fill:none\" points=\"274.873,1486.45 274.873,1467.55 \"/>\n",
       "<polyline clip-path=\"url(#clip330)\" style=\"stroke:#000000; stroke-linecap:round; stroke-linejoin:round; stroke-width:4; stroke-opacity:1; fill:none\" points=\"697.881,1486.45 697.881,1467.55 \"/>\n",
       "<polyline clip-path=\"url(#clip330)\" style=\"stroke:#000000; stroke-linecap:round; stroke-linejoin:round; stroke-width:4; stroke-opacity:1; fill:none\" points=\"1120.89,1486.45 1120.89,1467.55 \"/>\n",
       "<polyline clip-path=\"url(#clip330)\" style=\"stroke:#000000; stroke-linecap:round; stroke-linejoin:round; stroke-width:4; stroke-opacity:1; fill:none\" points=\"1543.9,1486.45 1543.9,1467.55 \"/>\n",
       "<polyline clip-path=\"url(#clip330)\" style=\"stroke:#000000; stroke-linecap:round; stroke-linejoin:round; stroke-width:4; stroke-opacity:1; fill:none\" points=\"1966.9,1486.45 1966.9,1467.55 \"/>\n",
       "<path clip-path=\"url(#clip330)\" d=\"M252.258 1517.37 Q248.647 1517.37 246.818 1520.93 Q245.012 1524.47 245.012 1531.6 Q245.012 1538.71 246.818 1542.27 Q248.647 1545.82 252.258 1545.82 Q255.892 1545.82 257.698 1542.27 Q259.526 1538.71 259.526 1531.6 Q259.526 1524.47 257.698 1520.93 Q255.892 1517.37 252.258 1517.37 M252.258 1513.66 Q258.068 1513.66 261.123 1518.27 Q264.202 1522.85 264.202 1531.6 Q264.202 1540.33 261.123 1544.94 Q258.068 1549.52 252.258 1549.52 Q246.448 1549.52 243.369 1544.94 Q240.313 1540.33 240.313 1531.6 Q240.313 1522.85 243.369 1518.27 Q246.448 1513.66 252.258 1513.66 Z\" fill=\"#000000\" fill-rule=\"nonzero\" fill-opacity=\"1\" /><path clip-path=\"url(#clip330)\" d=\"M272.42 1542.97 L277.304 1542.97 L277.304 1548.85 L272.42 1548.85 L272.42 1542.97 Z\" fill=\"#000000\" fill-rule=\"nonzero\" fill-opacity=\"1\" /><path clip-path=\"url(#clip330)\" d=\"M297.489 1517.37 Q293.878 1517.37 292.049 1520.93 Q290.244 1524.47 290.244 1531.6 Q290.244 1538.71 292.049 1542.27 Q293.878 1545.82 297.489 1545.82 Q301.123 1545.82 302.929 1542.27 Q304.758 1538.71 304.758 1531.6 Q304.758 1524.47 302.929 1520.93 Q301.123 1517.37 297.489 1517.37 M297.489 1513.66 Q303.299 1513.66 306.355 1518.27 Q309.433 1522.85 309.433 1531.6 Q309.433 1540.33 306.355 1544.94 Q303.299 1549.52 297.489 1549.52 Q291.679 1549.52 288.6 1544.94 Q285.545 1540.33 285.545 1531.6 Q285.545 1522.85 288.6 1518.27 Q291.679 1513.66 297.489 1513.66 Z\" fill=\"#000000\" fill-rule=\"nonzero\" fill-opacity=\"1\" /><path clip-path=\"url(#clip330)\" d=\"M675.879 1517.37 Q672.268 1517.37 670.439 1520.93 Q668.633 1524.47 668.633 1531.6 Q668.633 1538.71 670.439 1542.27 Q672.268 1545.82 675.879 1545.82 Q679.513 1545.82 681.319 1542.27 Q683.147 1538.71 683.147 1531.6 Q683.147 1524.47 681.319 1520.93 Q679.513 1517.37 675.879 1517.37 M675.879 1513.66 Q681.689 1513.66 684.744 1518.27 Q687.823 1522.85 687.823 1531.6 Q687.823 1540.33 684.744 1544.94 Q681.689 1549.52 675.879 1549.52 Q670.069 1549.52 666.99 1544.94 Q663.934 1540.33 663.934 1531.6 Q663.934 1522.85 666.99 1518.27 Q670.069 1513.66 675.879 1513.66 Z\" fill=\"#000000\" fill-rule=\"nonzero\" fill-opacity=\"1\" /><path clip-path=\"url(#clip330)\" d=\"M696.041 1542.97 L700.925 1542.97 L700.925 1548.85 L696.041 1548.85 L696.041 1542.97 Z\" fill=\"#000000\" fill-rule=\"nonzero\" fill-opacity=\"1\" /><path clip-path=\"url(#clip330)\" d=\"M711.92 1544.91 L719.559 1544.91 L719.559 1518.55 L711.249 1520.21 L711.249 1515.95 L719.513 1514.29 L724.189 1514.29 L724.189 1544.91 L731.828 1544.91 L731.828 1548.85 L711.92 1548.85 L711.92 1544.91 Z\" fill=\"#000000\" fill-rule=\"nonzero\" fill-opacity=\"1\" /><path clip-path=\"url(#clip330)\" d=\"M1099.07 1517.37 Q1095.46 1517.37 1093.63 1520.93 Q1091.83 1524.47 1091.83 1531.6 Q1091.83 1538.71 1093.63 1542.27 Q1095.46 1545.82 1099.07 1545.82 Q1102.71 1545.82 1104.51 1542.27 Q1106.34 1538.71 1106.34 1531.6 Q1106.34 1524.47 1104.51 1520.93 Q1102.71 1517.37 1099.07 1517.37 M1099.07 1513.66 Q1104.88 1513.66 1107.94 1518.27 Q1111.02 1522.85 1111.02 1531.6 Q1111.02 1540.33 1107.94 1544.94 Q1104.88 1549.52 1099.07 1549.52 Q1093.26 1549.52 1090.18 1544.94 Q1087.13 1540.33 1087.13 1531.6 Q1087.13 1522.85 1090.18 1518.27 Q1093.26 1513.66 1099.07 1513.66 Z\" fill=\"#000000\" fill-rule=\"nonzero\" fill-opacity=\"1\" /><path clip-path=\"url(#clip330)\" d=\"M1119.23 1542.97 L1124.12 1542.97 L1124.12 1548.85 L1119.23 1548.85 L1119.23 1542.97 Z\" fill=\"#000000\" fill-rule=\"nonzero\" fill-opacity=\"1\" /><path clip-path=\"url(#clip330)\" d=\"M1138.33 1544.91 L1154.65 1544.91 L1154.65 1548.85 L1132.71 1548.85 L1132.71 1544.91 Q1135.37 1542.16 1139.95 1537.53 Q1144.56 1532.88 1145.74 1531.53 Q1147.98 1529.01 1148.86 1527.27 Q1149.77 1525.51 1149.77 1523.82 Q1149.77 1521.07 1147.82 1519.33 Q1145.9 1517.6 1142.8 1517.6 Q1140.6 1517.6 1138.15 1518.36 Q1135.71 1519.13 1132.94 1520.68 L1132.94 1515.95 Q1135.76 1514.82 1138.21 1514.24 Q1140.67 1513.66 1142.71 1513.66 Q1148.08 1513.66 1151.27 1516.35 Q1154.46 1519.03 1154.46 1523.52 Q1154.46 1525.65 1153.65 1527.57 Q1152.87 1529.47 1150.76 1532.07 Q1150.18 1532.74 1147.08 1535.95 Q1143.98 1539.15 1138.33 1544.91 Z\" fill=\"#000000\" fill-rule=\"nonzero\" fill-opacity=\"1\" /><path clip-path=\"url(#clip330)\" d=\"M1521.6 1517.37 Q1517.99 1517.37 1516.16 1520.93 Q1514.36 1524.47 1514.36 1531.6 Q1514.36 1538.71 1516.16 1542.27 Q1517.99 1545.82 1521.6 1545.82 Q1525.24 1545.82 1527.04 1542.27 Q1528.87 1538.71 1528.87 1531.6 Q1528.87 1524.47 1527.04 1520.93 Q1525.24 1517.37 1521.6 1517.37 M1521.6 1513.66 Q1527.41 1513.66 1530.47 1518.27 Q1533.55 1522.85 1533.55 1531.6 Q1533.55 1540.33 1530.47 1544.94 Q1527.41 1549.52 1521.6 1549.52 Q1515.79 1549.52 1512.72 1544.94 Q1509.66 1540.33 1509.66 1531.6 Q1509.66 1522.85 1512.72 1518.27 Q1515.79 1513.66 1521.6 1513.66 Z\" fill=\"#000000\" fill-rule=\"nonzero\" fill-opacity=\"1\" /><path clip-path=\"url(#clip330)\" d=\"M1541.77 1542.97 L1546.65 1542.97 L1546.65 1548.85 L1541.77 1548.85 L1541.77 1542.97 Z\" fill=\"#000000\" fill-rule=\"nonzero\" fill-opacity=\"1\" /><path clip-path=\"url(#clip330)\" d=\"M1571 1530.21 Q1574.36 1530.93 1576.23 1533.2 Q1578.13 1535.47 1578.13 1538.8 Q1578.13 1543.92 1574.61 1546.72 Q1571.1 1549.52 1564.61 1549.52 Q1562.44 1549.52 1560.12 1549.08 Q1557.83 1548.66 1555.38 1547.81 L1555.38 1543.29 Q1557.32 1544.43 1559.64 1545.01 Q1561.95 1545.58 1564.47 1545.58 Q1568.87 1545.58 1571.16 1543.85 Q1573.48 1542.11 1573.48 1538.8 Q1573.48 1535.75 1571.33 1534.03 Q1569.2 1532.3 1565.38 1532.3 L1561.35 1532.3 L1561.35 1528.45 L1565.56 1528.45 Q1569.01 1528.45 1570.84 1527.09 Q1572.67 1525.7 1572.67 1523.11 Q1572.67 1520.45 1570.77 1519.03 Q1568.9 1517.6 1565.38 1517.6 Q1563.46 1517.6 1561.26 1518.01 Q1559.06 1518.43 1556.42 1519.31 L1556.42 1515.14 Q1559.08 1514.4 1561.4 1514.03 Q1563.73 1513.66 1565.79 1513.66 Q1571.12 1513.66 1574.22 1516.09 Q1577.32 1518.5 1577.32 1522.62 Q1577.32 1525.49 1575.68 1527.48 Q1574.03 1529.45 1571 1530.21 Z\" fill=\"#000000\" fill-rule=\"nonzero\" fill-opacity=\"1\" /><path clip-path=\"url(#clip330)\" d=\"M1944.04 1517.37 Q1940.43 1517.37 1938.61 1520.93 Q1936.8 1524.47 1936.8 1531.6 Q1936.8 1538.71 1938.61 1542.27 Q1940.43 1545.82 1944.04 1545.82 Q1947.68 1545.82 1949.48 1542.27 Q1951.31 1538.71 1951.31 1531.6 Q1951.31 1524.47 1949.48 1520.93 Q1947.68 1517.37 1944.04 1517.37 M1944.04 1513.66 Q1949.86 1513.66 1952.91 1518.27 Q1955.99 1522.85 1955.99 1531.6 Q1955.99 1540.33 1952.91 1544.94 Q1949.86 1549.52 1944.04 1549.52 Q1938.23 1549.52 1935.16 1544.94 Q1932.1 1540.33 1932.1 1531.6 Q1932.1 1522.85 1935.16 1518.27 Q1938.23 1513.66 1944.04 1513.66 Z\" fill=\"#000000\" fill-rule=\"nonzero\" fill-opacity=\"1\" /><path clip-path=\"url(#clip330)\" d=\"M1964.21 1542.97 L1969.09 1542.97 L1969.09 1548.85 L1964.21 1548.85 L1964.21 1542.97 Z\" fill=\"#000000\" fill-rule=\"nonzero\" fill-opacity=\"1\" /><path clip-path=\"url(#clip330)\" d=\"M1992.12 1518.36 L1980.32 1536.81 L1992.12 1536.81 L1992.12 1518.36 M1990.9 1514.29 L1996.78 1514.29 L1996.78 1536.81 L2001.71 1536.81 L2001.71 1540.7 L1996.78 1540.7 L1996.78 1548.85 L1992.12 1548.85 L1992.12 1540.7 L1976.52 1540.7 L1976.52 1536.19 L1990.9 1514.29 Z\" fill=\"#000000\" fill-rule=\"nonzero\" fill-opacity=\"1\" /><polyline clip-path=\"url(#clip332)\" style=\"stroke:#000000; stroke-linecap:round; stroke-linejoin:round; stroke-width:2; stroke-opacity:0.1; fill:none\" points=\"214.353,1445.72 2352.76,1445.72 \"/>\n",
       "<polyline clip-path=\"url(#clip332)\" style=\"stroke:#000000; stroke-linecap:round; stroke-linejoin:round; stroke-width:2; stroke-opacity:0.1; fill:none\" points=\"214.353,1145.96 2352.76,1145.96 \"/>\n",
       "<polyline clip-path=\"url(#clip332)\" style=\"stroke:#000000; stroke-linecap:round; stroke-linejoin:round; stroke-width:2; stroke-opacity:0.1; fill:none\" points=\"214.353,846.207 2352.76,846.207 \"/>\n",
       "<polyline clip-path=\"url(#clip332)\" style=\"stroke:#000000; stroke-linecap:round; stroke-linejoin:round; stroke-width:2; stroke-opacity:0.1; fill:none\" points=\"214.353,546.452 2352.76,546.452 \"/>\n",
       "<polyline clip-path=\"url(#clip332)\" style=\"stroke:#000000; stroke-linecap:round; stroke-linejoin:round; stroke-width:2; stroke-opacity:0.1; fill:none\" points=\"214.353,246.698 2352.76,246.698 \"/>\n",
       "<polyline clip-path=\"url(#clip330)\" style=\"stroke:#000000; stroke-linecap:round; stroke-linejoin:round; stroke-width:4; stroke-opacity:1; fill:none\" points=\"214.353,1486.45 214.353,47.2441 \"/>\n",
       "<polyline clip-path=\"url(#clip330)\" style=\"stroke:#000000; stroke-linecap:round; stroke-linejoin:round; stroke-width:4; stroke-opacity:1; fill:none\" points=\"214.353,1445.72 233.25,1445.72 \"/>\n",
       "<polyline clip-path=\"url(#clip330)\" style=\"stroke:#000000; stroke-linecap:round; stroke-linejoin:round; stroke-width:4; stroke-opacity:1; fill:none\" points=\"214.353,1145.96 233.25,1145.96 \"/>\n",
       "<polyline clip-path=\"url(#clip330)\" style=\"stroke:#000000; stroke-linecap:round; stroke-linejoin:round; stroke-width:4; stroke-opacity:1; fill:none\" points=\"214.353,846.207 233.25,846.207 \"/>\n",
       "<polyline clip-path=\"url(#clip330)\" style=\"stroke:#000000; stroke-linecap:round; stroke-linejoin:round; stroke-width:4; stroke-opacity:1; fill:none\" points=\"214.353,546.452 233.25,546.452 \"/>\n",
       "<polyline clip-path=\"url(#clip330)\" style=\"stroke:#000000; stroke-linecap:round; stroke-linejoin:round; stroke-width:4; stroke-opacity:1; fill:none\" points=\"214.353,246.698 233.25,246.698 \"/>\n",
       "<path clip-path=\"url(#clip330)\" d=\"M51.6634 1459.06 L59.3023 1459.06 L59.3023 1432.69 L50.9921 1434.36 L50.9921 1430.1 L59.256 1428.44 L63.9319 1428.44 L63.9319 1459.06 L71.5707 1459.06 L71.5707 1463 L51.6634 1463 L51.6634 1459.06 Z\" fill=\"#000000\" fill-rule=\"nonzero\" fill-opacity=\"1\" /><path clip-path=\"url(#clip330)\" d=\"M81.0151 1457.12 L85.8993 1457.12 L85.8993 1463 L81.0151 1463 L81.0151 1457.12 Z\" fill=\"#000000\" fill-rule=\"nonzero\" fill-opacity=\"1\" /><path clip-path=\"url(#clip330)\" d=\"M106.084 1431.51 Q102.473 1431.51 100.645 1435.08 Q98.8391 1438.62 98.8391 1445.75 Q98.8391 1452.86 100.645 1456.42 Q102.473 1459.96 106.084 1459.96 Q109.719 1459.96 111.524 1456.42 Q113.353 1452.86 113.353 1445.75 Q113.353 1438.62 111.524 1435.08 Q109.719 1431.51 106.084 1431.51 M106.084 1427.81 Q111.895 1427.81 114.95 1432.42 Q118.029 1437 118.029 1445.75 Q118.029 1454.48 114.95 1459.08 Q111.895 1463.67 106.084 1463.67 Q100.274 1463.67 97.1956 1459.08 Q94.14 1454.48 94.14 1445.75 Q94.14 1437 97.1956 1432.42 Q100.274 1427.81 106.084 1427.81 Z\" fill=\"#000000\" fill-rule=\"nonzero\" fill-opacity=\"1\" /><path clip-path=\"url(#clip330)\" d=\"M136.246 1431.51 Q132.635 1431.51 130.807 1435.08 Q129.001 1438.62 129.001 1445.75 Q129.001 1452.86 130.807 1456.42 Q132.635 1459.96 136.246 1459.96 Q139.881 1459.96 141.686 1456.42 Q143.515 1452.86 143.515 1445.75 Q143.515 1438.62 141.686 1435.08 Q139.881 1431.51 136.246 1431.51 M136.246 1427.81 Q142.056 1427.81 145.112 1432.42 Q148.191 1437 148.191 1445.75 Q148.191 1454.48 145.112 1459.08 Q142.056 1463.67 136.246 1463.67 Q130.436 1463.67 127.357 1459.08 Q124.302 1454.48 124.302 1445.75 Q124.302 1437 127.357 1432.42 Q130.436 1427.81 136.246 1427.81 Z\" fill=\"#000000\" fill-rule=\"nonzero\" fill-opacity=\"1\" /><path clip-path=\"url(#clip330)\" d=\"M166.408 1431.51 Q162.797 1431.51 160.968 1435.08 Q159.163 1438.62 159.163 1445.75 Q159.163 1452.86 160.968 1456.42 Q162.797 1459.96 166.408 1459.96 Q170.042 1459.96 171.848 1456.42 Q173.677 1452.86 173.677 1445.75 Q173.677 1438.62 171.848 1435.08 Q170.042 1431.51 166.408 1431.51 M166.408 1427.81 Q172.218 1427.81 175.274 1432.42 Q178.353 1437 178.353 1445.75 Q178.353 1454.48 175.274 1459.08 Q172.218 1463.67 166.408 1463.67 Q160.598 1463.67 157.519 1459.08 Q154.464 1454.48 154.464 1445.75 Q154.464 1437 157.519 1432.42 Q160.598 1427.81 166.408 1427.81 Z\" fill=\"#000000\" fill-rule=\"nonzero\" fill-opacity=\"1\" /><path clip-path=\"url(#clip330)\" d=\"M52.6588 1159.31 L60.2976 1159.31 L60.2976 1132.94 L51.9875 1134.61 L51.9875 1130.35 L60.2513 1128.68 L64.9272 1128.68 L64.9272 1159.31 L72.5661 1159.31 L72.5661 1163.24 L52.6588 1163.24 L52.6588 1159.31 Z\" fill=\"#000000\" fill-rule=\"nonzero\" fill-opacity=\"1\" /><path clip-path=\"url(#clip330)\" d=\"M82.0105 1157.36 L86.8947 1157.36 L86.8947 1163.24 L82.0105 1163.24 L82.0105 1157.36 Z\" fill=\"#000000\" fill-rule=\"nonzero\" fill-opacity=\"1\" /><path clip-path=\"url(#clip330)\" d=\"M107.08 1131.76 Q103.469 1131.76 101.64 1135.32 Q99.8345 1138.87 99.8345 1146 Q99.8345 1153.1 101.64 1156.67 Q103.469 1160.21 107.08 1160.21 Q110.714 1160.21 112.52 1156.67 Q114.348 1153.1 114.348 1146 Q114.348 1138.87 112.52 1135.32 Q110.714 1131.76 107.08 1131.76 M107.08 1128.06 Q112.89 1128.06 115.945 1132.66 Q119.024 1137.25 119.024 1146 Q119.024 1154.72 115.945 1159.33 Q112.89 1163.91 107.08 1163.91 Q101.27 1163.91 98.1909 1159.33 Q95.1354 1154.72 95.1354 1146 Q95.1354 1137.25 98.1909 1132.66 Q101.27 1128.06 107.08 1128.06 Z\" fill=\"#000000\" fill-rule=\"nonzero\" fill-opacity=\"1\" /><path clip-path=\"url(#clip330)\" d=\"M131.269 1159.31 L147.589 1159.31 L147.589 1163.24 L125.645 1163.24 L125.645 1159.31 Q128.307 1156.55 132.89 1151.92 Q137.496 1147.27 138.677 1145.93 Q140.922 1143.4 141.802 1141.67 Q142.705 1139.91 142.705 1138.22 Q142.705 1135.46 140.76 1133.73 Q138.839 1131.99 135.737 1131.99 Q133.538 1131.99 131.084 1132.76 Q128.654 1133.52 125.876 1135.07 L125.876 1130.35 Q128.7 1129.21 131.154 1128.63 Q133.607 1128.06 135.644 1128.06 Q141.015 1128.06 144.209 1130.74 Q147.404 1133.43 147.404 1137.92 Q147.404 1140.05 146.593 1141.97 Q145.806 1143.87 143.7 1146.46 Q143.121 1147.13 140.019 1150.35 Q136.918 1153.54 131.269 1159.31 Z\" fill=\"#000000\" fill-rule=\"nonzero\" fill-opacity=\"1\" /><path clip-path=\"url(#clip330)\" d=\"M157.45 1128.68 L175.806 1128.68 L175.806 1132.62 L161.732 1132.62 L161.732 1141.09 Q162.751 1140.74 163.769 1140.58 Q164.788 1140.39 165.806 1140.39 Q171.593 1140.39 174.973 1143.57 Q178.353 1146.74 178.353 1152.15 Q178.353 1157.73 174.88 1160.83 Q171.408 1163.91 165.089 1163.91 Q162.913 1163.91 160.644 1163.54 Q158.399 1163.17 155.992 1162.43 L155.992 1157.73 Q158.075 1158.87 160.297 1159.42 Q162.519 1159.98 164.996 1159.98 Q169.001 1159.98 171.339 1157.87 Q173.677 1155.76 173.677 1152.15 Q173.677 1148.54 171.339 1146.44 Q169.001 1144.33 164.996 1144.33 Q163.121 1144.33 161.246 1144.75 Q159.394 1145.16 157.45 1146.04 L157.45 1128.68 Z\" fill=\"#000000\" fill-rule=\"nonzero\" fill-opacity=\"1\" /><path clip-path=\"url(#clip330)\" d=\"M51.6634 859.552 L59.3023 859.552 L59.3023 833.186 L50.9921 834.853 L50.9921 830.594 L59.256 828.927 L63.9319 828.927 L63.9319 859.552 L71.5707 859.552 L71.5707 863.487 L51.6634 863.487 L51.6634 859.552 Z\" fill=\"#000000\" fill-rule=\"nonzero\" fill-opacity=\"1\" /><path clip-path=\"url(#clip330)\" d=\"M81.0151 857.607 L85.8993 857.607 L85.8993 863.487 L81.0151 863.487 L81.0151 857.607 Z\" fill=\"#000000\" fill-rule=\"nonzero\" fill-opacity=\"1\" /><path clip-path=\"url(#clip330)\" d=\"M106.084 832.006 Q102.473 832.006 100.645 835.57 Q98.8391 839.112 98.8391 846.242 Q98.8391 853.348 100.645 856.913 Q102.473 860.454 106.084 860.454 Q109.719 860.454 111.524 856.913 Q113.353 853.348 113.353 846.242 Q113.353 839.112 111.524 835.57 Q109.719 832.006 106.084 832.006 M106.084 828.302 Q111.895 828.302 114.95 832.908 Q118.029 837.492 118.029 846.242 Q118.029 854.968 114.95 859.575 Q111.895 864.158 106.084 864.158 Q100.274 864.158 97.1956 859.575 Q94.14 854.968 94.14 846.242 Q94.14 837.492 97.1956 832.908 Q100.274 828.302 106.084 828.302 Z\" fill=\"#000000\" fill-rule=\"nonzero\" fill-opacity=\"1\" /><path clip-path=\"url(#clip330)\" d=\"M126.293 828.927 L144.649 828.927 L144.649 832.862 L130.575 832.862 L130.575 841.334 Q131.594 840.987 132.612 840.825 Q133.631 840.64 134.649 840.64 Q140.436 840.64 143.816 843.811 Q147.195 846.982 147.195 852.399 Q147.195 857.978 143.723 861.079 Q140.251 864.158 133.931 864.158 Q131.756 864.158 129.487 863.788 Q127.242 863.417 124.834 862.677 L124.834 857.978 Q126.918 859.112 129.14 859.667 Q131.362 860.223 133.839 860.223 Q137.844 860.223 140.181 858.117 Q142.519 856.01 142.519 852.399 Q142.519 848.788 140.181 846.681 Q137.844 844.575 133.839 844.575 Q131.964 844.575 130.089 844.992 Q128.237 845.408 126.293 846.288 L126.293 828.927 Z\" fill=\"#000000\" fill-rule=\"nonzero\" fill-opacity=\"1\" /><path clip-path=\"url(#clip330)\" d=\"M166.408 832.006 Q162.797 832.006 160.968 835.57 Q159.163 839.112 159.163 846.242 Q159.163 853.348 160.968 856.913 Q162.797 860.454 166.408 860.454 Q170.042 860.454 171.848 856.913 Q173.677 853.348 173.677 846.242 Q173.677 839.112 171.848 835.57 Q170.042 832.006 166.408 832.006 M166.408 828.302 Q172.218 828.302 175.274 832.908 Q178.353 837.492 178.353 846.242 Q178.353 854.968 175.274 859.575 Q172.218 864.158 166.408 864.158 Q160.598 864.158 157.519 859.575 Q154.464 854.968 154.464 846.242 Q154.464 837.492 157.519 832.908 Q160.598 828.302 166.408 828.302 Z\" fill=\"#000000\" fill-rule=\"nonzero\" fill-opacity=\"1\" /><path clip-path=\"url(#clip330)\" d=\"M52.6588 559.797 L60.2976 559.797 L60.2976 533.432 L51.9875 535.098 L51.9875 530.839 L60.2513 529.172 L64.9272 529.172 L64.9272 559.797 L72.5661 559.797 L72.5661 563.732 L52.6588 563.732 L52.6588 559.797 Z\" fill=\"#000000\" fill-rule=\"nonzero\" fill-opacity=\"1\" /><path clip-path=\"url(#clip330)\" d=\"M82.0105 557.853 L86.8947 557.853 L86.8947 563.732 L82.0105 563.732 L82.0105 557.853 Z\" fill=\"#000000\" fill-rule=\"nonzero\" fill-opacity=\"1\" /><path clip-path=\"url(#clip330)\" d=\"M107.08 532.251 Q103.469 532.251 101.64 535.816 Q99.8345 539.358 99.8345 546.487 Q99.8345 553.594 101.64 557.158 Q103.469 560.7 107.08 560.7 Q110.714 560.7 112.52 557.158 Q114.348 553.594 114.348 546.487 Q114.348 539.358 112.52 535.816 Q110.714 532.251 107.08 532.251 M107.08 528.547 Q112.89 528.547 115.945 533.154 Q119.024 537.737 119.024 546.487 Q119.024 555.214 115.945 559.82 Q112.89 564.404 107.08 564.404 Q101.27 564.404 98.1909 559.82 Q95.1354 555.214 95.1354 546.487 Q95.1354 537.737 98.1909 533.154 Q101.27 528.547 107.08 528.547 Z\" fill=\"#000000\" fill-rule=\"nonzero\" fill-opacity=\"1\" /><path clip-path=\"url(#clip330)\" d=\"M126.061 529.172 L148.283 529.172 L148.283 531.163 L135.737 563.732 L130.853 563.732 L142.658 533.108 L126.061 533.108 L126.061 529.172 Z\" fill=\"#000000\" fill-rule=\"nonzero\" fill-opacity=\"1\" /><path clip-path=\"url(#clip330)\" d=\"M157.45 529.172 L175.806 529.172 L175.806 533.108 L161.732 533.108 L161.732 541.58 Q162.751 541.233 163.769 541.071 Q164.788 540.885 165.806 540.885 Q171.593 540.885 174.973 544.057 Q178.353 547.228 178.353 552.645 Q178.353 558.223 174.88 561.325 Q171.408 564.404 165.089 564.404 Q162.913 564.404 160.644 564.033 Q158.399 563.663 155.992 562.922 L155.992 558.223 Q158.075 559.357 160.297 559.913 Q162.519 560.469 164.996 560.469 Q169.001 560.469 171.339 558.362 Q173.677 556.256 173.677 552.645 Q173.677 549.033 171.339 546.927 Q169.001 544.821 164.996 544.821 Q163.121 544.821 161.246 545.237 Q159.394 545.654 157.45 546.533 L157.45 529.172 Z\" fill=\"#000000\" fill-rule=\"nonzero\" fill-opacity=\"1\" /><path clip-path=\"url(#clip330)\" d=\"M51.6634 260.043 L59.3023 260.043 L59.3023 233.677 L50.9921 235.344 L50.9921 231.085 L59.256 229.418 L63.9319 229.418 L63.9319 260.043 L71.5707 260.043 L71.5707 263.978 L51.6634 263.978 L51.6634 260.043 Z\" fill=\"#000000\" fill-rule=\"nonzero\" fill-opacity=\"1\" /><path clip-path=\"url(#clip330)\" d=\"M81.0151 258.098 L85.8993 258.098 L85.8993 263.978 L81.0151 263.978 L81.0151 258.098 Z\" fill=\"#000000\" fill-rule=\"nonzero\" fill-opacity=\"1\" /><path clip-path=\"url(#clip330)\" d=\"M96.8947 260.043 L104.534 260.043 L104.534 233.677 L96.2234 235.344 L96.2234 231.085 L104.487 229.418 L109.163 229.418 L109.163 260.043 L116.802 260.043 L116.802 263.978 L96.8947 263.978 L96.8947 260.043 Z\" fill=\"#000000\" fill-rule=\"nonzero\" fill-opacity=\"1\" /><path clip-path=\"url(#clip330)\" d=\"M136.246 232.497 Q132.635 232.497 130.807 236.062 Q129.001 239.603 129.001 246.733 Q129.001 253.839 130.807 257.404 Q132.635 260.946 136.246 260.946 Q139.881 260.946 141.686 257.404 Q143.515 253.839 143.515 246.733 Q143.515 239.603 141.686 236.062 Q139.881 232.497 136.246 232.497 M136.246 228.793 Q142.056 228.793 145.112 233.399 Q148.191 237.983 148.191 246.733 Q148.191 255.46 145.112 260.066 Q142.056 264.649 136.246 264.649 Q130.436 264.649 127.357 260.066 Q124.302 255.46 124.302 246.733 Q124.302 237.983 127.357 233.399 Q130.436 228.793 136.246 228.793 Z\" fill=\"#000000\" fill-rule=\"nonzero\" fill-opacity=\"1\" /><path clip-path=\"url(#clip330)\" d=\"M166.408 232.497 Q162.797 232.497 160.968 236.062 Q159.163 239.603 159.163 246.733 Q159.163 253.839 160.968 257.404 Q162.797 260.946 166.408 260.946 Q170.042 260.946 171.848 257.404 Q173.677 253.839 173.677 246.733 Q173.677 239.603 171.848 236.062 Q170.042 232.497 166.408 232.497 M166.408 228.793 Q172.218 228.793 175.274 233.399 Q178.353 237.983 178.353 246.733 Q178.353 255.46 175.274 260.066 Q172.218 264.649 166.408 264.649 Q160.598 264.649 157.519 260.066 Q154.464 255.46 154.464 246.733 Q154.464 237.983 157.519 233.399 Q160.598 228.793 166.408 228.793 Z\" fill=\"#000000\" fill-rule=\"nonzero\" fill-opacity=\"1\" /><polyline clip-path=\"url(#clip332)\" style=\"stroke:#009af9; stroke-linecap:round; stroke-linejoin:round; stroke-width:4; stroke-opacity:1; fill:none\" points=\"274.873,1445.72 317.174,1423.54 358.769,1401.55 400.353,1379.38 441.925,1357.02 483.484,1334.49 525.032,1311.76 566.566,1288.85 608.088,1265.74 649.596,1242.42 691.09,1218.91 732.57,1195.19 774.035,1171.27 815.486,1147.12 856.921,1122.77 898.34,1098.18 939.743,1073.38 981.129,1048.34 1022.5,1023.06 1063.85,997.547 1105.18,971.786 1146.5,945.776 1187.79,919.509 1229.06,892.982 1270.32,866.188 1311.55,839.121 1352.76,811.776 1393.95,784.146 1435.11,756.224 1476.25,728.005 1517.36,699.481 1558.45,670.644 1599.51,641.488 1640.55,612.004 1681.55,582.185 1722.52,552.021 1763.47,521.506 1804.38,490.628 1845.25,459.379 1886.09,427.749 1926.9,395.727 1967.67,363.304 2008.39,330.467 2049.08,297.204 2089.72,263.505 2130.32,229.355 2170.88,194.742 2211.38,159.651 2251.83,124.068 2292.24,87.9763 \"/>\n",
       "<path clip-path=\"url(#clip330)\" d=\"M285.633 198.898 L551.903 198.898 L551.903 95.2176 L285.633 95.2176  Z\" fill=\"#ffffff\" fill-rule=\"evenodd\" fill-opacity=\"1\"/>\n",
       "<polyline clip-path=\"url(#clip330)\" style=\"stroke:#000000; stroke-linecap:round; stroke-linejoin:round; stroke-width:4; stroke-opacity:1; fill:none\" points=\"285.633,198.898 551.903,198.898 551.903,95.2176 285.633,95.2176 285.633,198.898 \"/>\n",
       "<polyline clip-path=\"url(#clip330)\" style=\"stroke:#009af9; stroke-linecap:round; stroke-linejoin:round; stroke-width:4; stroke-opacity:1; fill:none\" points=\"309.393,147.058 451.953,147.058 \"/>\n",
       "<path clip-path=\"url(#clip330)\" d=\"M489.555 166.745 Q487.75 171.375 486.037 172.787 Q484.324 174.199 481.454 174.199 L478.051 174.199 L478.051 170.634 L480.551 170.634 Q482.31 170.634 483.282 169.8 Q484.255 168.967 485.435 165.865 L486.199 163.921 L475.713 138.412 L480.227 138.412 L488.329 158.689 L496.43 138.412 L500.944 138.412 L489.555 166.745 Z\" fill=\"#000000\" fill-rule=\"nonzero\" fill-opacity=\"1\" /><path clip-path=\"url(#clip330)\" d=\"M508.236 160.402 L515.875 160.402 L515.875 134.037 L507.565 135.703 L507.565 131.444 L515.828 129.778 L520.504 129.778 L520.504 160.402 L528.143 160.402 L528.143 164.338 L508.236 164.338 L508.236 160.402 Z\" fill=\"#000000\" fill-rule=\"nonzero\" fill-opacity=\"1\" /></svg>\n"
      ]
     },
     "execution_count": 176,
     "metadata": {},
     "output_type": "execute_result"
    }
   ],
   "source": [
    "plot(P,X)"
   ]
  },
  {
   "cell_type": "code",
   "execution_count": 168,
   "id": "27c7d0c6-b9a0-432c-b3f6-4ab4c56615b1",
   "metadata": {},
   "outputs": [
    {
     "data": {
      "text/plain": [
       "50-element Vector{Float64}:\n",
       " 0.0\n",
       " 0.009999999999999665\n",
       " 0.01983320073844419\n",
       " 0.029663659917805358\n",
       " 0.039491330416409634\n",
       " 0.049316140296542244\n",
       " 0.05913801502389408\n",
       " 0.06895687734936752\n",
       " 0.0787726471807551\n",
       " 0.08858524144692614\n",
       " 0.09839457395399208\n",
       " 0.10820055523289691\n",
       " 0.11800309237780912\n",
       " ⋮\n",
       " 0.3712413707897241\n",
       " 0.3808963836896615\n",
       " 0.3905427998642821\n",
       " 0.4001802722204723\n",
       " 0.40980843383427423\n",
       " 0.4194268964738234\n",
       " 0.4290352489861498\n",
       " 0.4386330555328498\n",
       " 0.44821985365772704\n",
       " 0.45779515216729094\n",
       " 0.467358428802468\n",
       " 0.47690912767698124"
      ]
     },
     "execution_count": 168,
     "metadata": {},
     "output_type": "execute_result"
    }
   ],
   "source": [
    "P"
   ]
  },
  {
   "cell_type": "code",
   "execution_count": null,
   "id": "ef2f5669-8994-45c0-b8ed-dad004912f5a",
   "metadata": {},
   "outputs": [],
   "source": []
  }
 ],
 "metadata": {
  "kernelspec": {
   "display_name": "Julia 1.9.2",
   "language": "julia",
   "name": "julia-1.9"
  },
  "language_info": {
   "file_extension": ".jl",
   "mimetype": "application/julia",
   "name": "julia",
   "version": "1.9.2"
  }
 },
 "nbformat": 4,
 "nbformat_minor": 5
}
